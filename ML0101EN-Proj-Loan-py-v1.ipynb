{
    "cells": [
        {
            "cell_type": "markdown",
            "metadata": {
                "button": false,
                "new_sheet": false,
                "run_control": {
                    "read_only": false
                }
            },
            "source": "<p style=\"text-align:center\">\n    <a href=\"https://skills.network/?utm_medium=Exinfluencer&utm_source=Exinfluencer&utm_content=000026UJ&utm_term=10006555&utm_id=NA-SkillsNetwork-Channel-SkillsNetworkCoursesIBMDeveloperSkillsNetworkML0101ENSkillsNetwork20718538-2022-01-01\" target=\"_blank\">\n    <img src=\"https://cf-courses-data.s3.us.cloud-object-storage.appdomain.cloud/assets/logos/SN_web_lightmode.png\" width=\"200\" alt=\"Skills Network Logo\"  />\n    </a>\n</p>\n\n<h1 align=\"center\"><font size=\"5\">Classification with Python</font></h1>\n"
        },
        {
            "cell_type": "markdown",
            "metadata": {
                "button": false,
                "new_sheet": false,
                "run_control": {
                    "read_only": false
                }
            },
            "source": "In this notebook we try to practice all the classification algorithms that we have learned in this course.\n\nWe load a dataset using Pandas library, and apply the following algorithms, and find the best one for this specific dataset by accuracy evaluation methods.\n\nLet's first load required libraries:\n"
        },
        {
            "cell_type": "code",
            "execution_count": 1,
            "metadata": {
                "button": false,
                "new_sheet": false,
                "run_control": {
                    "read_only": false
                }
            },
            "outputs": [],
            "source": "import itertools\nimport numpy as np\nimport matplotlib.pyplot as plt\nfrom matplotlib.ticker import NullFormatter\nimport pandas as pd\nimport numpy as np\nimport matplotlib.ticker as ticker\nfrom sklearn import preprocessing\n%matplotlib inline"
        },
        {
            "cell_type": "markdown",
            "metadata": {
                "button": false,
                "new_sheet": false,
                "run_control": {
                    "read_only": false
                }
            },
            "source": "### About dataset\n"
        },
        {
            "cell_type": "markdown",
            "metadata": {
                "button": false,
                "new_sheet": false,
                "run_control": {
                    "read_only": false
                }
            },
            "source": "This dataset is about past loans. The **Loan_train.csv** data set includes details of 346 customers whose loan are already paid off or defaulted. It includes following fields:\n\n| Field          | Description                                                                           |\n| -------------- | ------------------------------------------------------------------------------------- |\n| Loan_status    | Whether a loan is paid off on in collection                                           |\n| Principal      | Basic principal loan amount at the                                                    |\n| Terms          | Origination terms which can be weekly (7 days), biweekly, and monthly payoff schedule |\n| Effective_date | When the loan got originated and took effects                                         |\n| Due_date       | Since it\u2019s one-time payoff schedule, each loan has one single due date                |\n| Age            | Age of applicant                                                                      |\n| Education      | Education of applicant                                                                |\n| Gender         | The gender of applicant                                                               |\n"
        },
        {
            "cell_type": "markdown",
            "metadata": {
                "button": false,
                "new_sheet": false,
                "run_control": {
                    "read_only": false
                }
            },
            "source": "Let's download the dataset\n"
        },
        {
            "cell_type": "code",
            "execution_count": 2,
            "metadata": {},
            "outputs": [
                {
                    "name": "stdout",
                    "output_type": "stream",
                    "text": "--2022-06-30 08:07:30--  https://cf-courses-data.s3.us.cloud-object-storage.appdomain.cloud/IBMDeveloperSkillsNetwork-ML0101EN-SkillsNetwork/labs/FinalModule_Coursera/data/loan_train.csv\nResolving cf-courses-data.s3.us.cloud-object-storage.appdomain.cloud (cf-courses-data.s3.us.cloud-object-storage.appdomain.cloud)... 169.63.118.104\nConnecting to cf-courses-data.s3.us.cloud-object-storage.appdomain.cloud (cf-courses-data.s3.us.cloud-object-storage.appdomain.cloud)|169.63.118.104|:443... connected.\nHTTP request sent, awaiting response... 200 OK\nLength: 23101 (23K) [text/csv]\nSaving to: \u2018loan_train.csv\u2019\n\nloan_train.csv      100%[===================>]  22.56K  --.-KB/s    in 0.09s   \n\n2022-06-30 08:07:31 (263 KB/s) - \u2018loan_train.csv\u2019 saved [23101/23101]\n\n"
                }
            ],
            "source": "!wget -O loan_train.csv https://cf-courses-data.s3.us.cloud-object-storage.appdomain.cloud/IBMDeveloperSkillsNetwork-ML0101EN-SkillsNetwork/labs/FinalModule_Coursera/data/loan_train.csv"
        },
        {
            "cell_type": "markdown",
            "metadata": {
                "button": false,
                "new_sheet": false,
                "run_control": {
                    "read_only": false
                }
            },
            "source": "### Load Data From CSV File\n"
        },
        {
            "cell_type": "code",
            "execution_count": 3,
            "metadata": {
                "button": false,
                "new_sheet": false,
                "run_control": {
                    "read_only": false
                }
            },
            "outputs": [
                {
                    "data": {
                        "text/html": "<div>\n<style scoped>\n    .dataframe tbody tr th:only-of-type {\n        vertical-align: middle;\n    }\n\n    .dataframe tbody tr th {\n        vertical-align: top;\n    }\n\n    .dataframe thead th {\n        text-align: right;\n    }\n</style>\n<table border=\"1\" class=\"dataframe\">\n  <thead>\n    <tr style=\"text-align: right;\">\n      <th></th>\n      <th>Unnamed: 0</th>\n      <th>Unnamed: 0.1</th>\n      <th>loan_status</th>\n      <th>Principal</th>\n      <th>terms</th>\n      <th>effective_date</th>\n      <th>due_date</th>\n      <th>age</th>\n      <th>education</th>\n      <th>Gender</th>\n    </tr>\n  </thead>\n  <tbody>\n    <tr>\n      <th>0</th>\n      <td>0</td>\n      <td>0</td>\n      <td>PAIDOFF</td>\n      <td>1000</td>\n      <td>30</td>\n      <td>9/8/2016</td>\n      <td>10/7/2016</td>\n      <td>45</td>\n      <td>High School or Below</td>\n      <td>male</td>\n    </tr>\n    <tr>\n      <th>1</th>\n      <td>2</td>\n      <td>2</td>\n      <td>PAIDOFF</td>\n      <td>1000</td>\n      <td>30</td>\n      <td>9/8/2016</td>\n      <td>10/7/2016</td>\n      <td>33</td>\n      <td>Bechalor</td>\n      <td>female</td>\n    </tr>\n    <tr>\n      <th>2</th>\n      <td>3</td>\n      <td>3</td>\n      <td>PAIDOFF</td>\n      <td>1000</td>\n      <td>15</td>\n      <td>9/8/2016</td>\n      <td>9/22/2016</td>\n      <td>27</td>\n      <td>college</td>\n      <td>male</td>\n    </tr>\n    <tr>\n      <th>3</th>\n      <td>4</td>\n      <td>4</td>\n      <td>PAIDOFF</td>\n      <td>1000</td>\n      <td>30</td>\n      <td>9/9/2016</td>\n      <td>10/8/2016</td>\n      <td>28</td>\n      <td>college</td>\n      <td>female</td>\n    </tr>\n    <tr>\n      <th>4</th>\n      <td>6</td>\n      <td>6</td>\n      <td>PAIDOFF</td>\n      <td>1000</td>\n      <td>30</td>\n      <td>9/9/2016</td>\n      <td>10/8/2016</td>\n      <td>29</td>\n      <td>college</td>\n      <td>male</td>\n    </tr>\n  </tbody>\n</table>\n</div>",
                        "text/plain": "   Unnamed: 0  Unnamed: 0.1 loan_status  Principal  terms effective_date  \\\n0           0             0     PAIDOFF       1000     30       9/8/2016   \n1           2             2     PAIDOFF       1000     30       9/8/2016   \n2           3             3     PAIDOFF       1000     15       9/8/2016   \n3           4             4     PAIDOFF       1000     30       9/9/2016   \n4           6             6     PAIDOFF       1000     30       9/9/2016   \n\n    due_date  age             education  Gender  \n0  10/7/2016   45  High School or Below    male  \n1  10/7/2016   33              Bechalor  female  \n2  9/22/2016   27               college    male  \n3  10/8/2016   28               college  female  \n4  10/8/2016   29               college    male  "
                    },
                    "execution_count": 3,
                    "metadata": {},
                    "output_type": "execute_result"
                }
            ],
            "source": "df = pd.read_csv('loan_train.csv')\ndf.head()"
        },
        {
            "cell_type": "code",
            "execution_count": 4,
            "metadata": {},
            "outputs": [
                {
                    "data": {
                        "text/plain": "(346, 10)"
                    },
                    "execution_count": 4,
                    "metadata": {},
                    "output_type": "execute_result"
                }
            ],
            "source": "df.shape"
        },
        {
            "cell_type": "markdown",
            "metadata": {
                "button": false,
                "new_sheet": false,
                "run_control": {
                    "read_only": false
                }
            },
            "source": "### Convert to date time object\n"
        },
        {
            "cell_type": "code",
            "execution_count": 5,
            "metadata": {
                "button": false,
                "new_sheet": false,
                "run_control": {
                    "read_only": false
                }
            },
            "outputs": [
                {
                    "data": {
                        "text/html": "<div>\n<style scoped>\n    .dataframe tbody tr th:only-of-type {\n        vertical-align: middle;\n    }\n\n    .dataframe tbody tr th {\n        vertical-align: top;\n    }\n\n    .dataframe thead th {\n        text-align: right;\n    }\n</style>\n<table border=\"1\" class=\"dataframe\">\n  <thead>\n    <tr style=\"text-align: right;\">\n      <th></th>\n      <th>Unnamed: 0</th>\n      <th>Unnamed: 0.1</th>\n      <th>loan_status</th>\n      <th>Principal</th>\n      <th>terms</th>\n      <th>effective_date</th>\n      <th>due_date</th>\n      <th>age</th>\n      <th>education</th>\n      <th>Gender</th>\n    </tr>\n  </thead>\n  <tbody>\n    <tr>\n      <th>0</th>\n      <td>0</td>\n      <td>0</td>\n      <td>PAIDOFF</td>\n      <td>1000</td>\n      <td>30</td>\n      <td>2016-09-08</td>\n      <td>2016-10-07</td>\n      <td>45</td>\n      <td>High School or Below</td>\n      <td>male</td>\n    </tr>\n    <tr>\n      <th>1</th>\n      <td>2</td>\n      <td>2</td>\n      <td>PAIDOFF</td>\n      <td>1000</td>\n      <td>30</td>\n      <td>2016-09-08</td>\n      <td>2016-10-07</td>\n      <td>33</td>\n      <td>Bechalor</td>\n      <td>female</td>\n    </tr>\n    <tr>\n      <th>2</th>\n      <td>3</td>\n      <td>3</td>\n      <td>PAIDOFF</td>\n      <td>1000</td>\n      <td>15</td>\n      <td>2016-09-08</td>\n      <td>2016-09-22</td>\n      <td>27</td>\n      <td>college</td>\n      <td>male</td>\n    </tr>\n    <tr>\n      <th>3</th>\n      <td>4</td>\n      <td>4</td>\n      <td>PAIDOFF</td>\n      <td>1000</td>\n      <td>30</td>\n      <td>2016-09-09</td>\n      <td>2016-10-08</td>\n      <td>28</td>\n      <td>college</td>\n      <td>female</td>\n    </tr>\n    <tr>\n      <th>4</th>\n      <td>6</td>\n      <td>6</td>\n      <td>PAIDOFF</td>\n      <td>1000</td>\n      <td>30</td>\n      <td>2016-09-09</td>\n      <td>2016-10-08</td>\n      <td>29</td>\n      <td>college</td>\n      <td>male</td>\n    </tr>\n  </tbody>\n</table>\n</div>",
                        "text/plain": "   Unnamed: 0  Unnamed: 0.1 loan_status  Principal  terms effective_date  \\\n0           0             0     PAIDOFF       1000     30     2016-09-08   \n1           2             2     PAIDOFF       1000     30     2016-09-08   \n2           3             3     PAIDOFF       1000     15     2016-09-08   \n3           4             4     PAIDOFF       1000     30     2016-09-09   \n4           6             6     PAIDOFF       1000     30     2016-09-09   \n\n    due_date  age             education  Gender  \n0 2016-10-07   45  High School or Below    male  \n1 2016-10-07   33              Bechalor  female  \n2 2016-09-22   27               college    male  \n3 2016-10-08   28               college  female  \n4 2016-10-08   29               college    male  "
                    },
                    "execution_count": 5,
                    "metadata": {},
                    "output_type": "execute_result"
                }
            ],
            "source": "df['due_date'] = pd.to_datetime(df['due_date'])\ndf['effective_date'] = pd.to_datetime(df['effective_date'])\ndf.head()"
        },
        {
            "cell_type": "markdown",
            "metadata": {
                "button": false,
                "new_sheet": false,
                "run_control": {
                    "read_only": false
                }
            },
            "source": "# Data visualization and pre-processing\n"
        },
        {
            "cell_type": "markdown",
            "metadata": {
                "button": false,
                "new_sheet": false,
                "run_control": {
                    "read_only": false
                }
            },
            "source": "Let\u2019s see how many of each class is in our data set\n"
        },
        {
            "cell_type": "code",
            "execution_count": 6,
            "metadata": {
                "button": false,
                "new_sheet": false,
                "run_control": {
                    "read_only": false
                }
            },
            "outputs": [
                {
                    "data": {
                        "text/plain": "PAIDOFF       260\nCOLLECTION     86\nName: loan_status, dtype: int64"
                    },
                    "execution_count": 6,
                    "metadata": {},
                    "output_type": "execute_result"
                }
            ],
            "source": "df['loan_status'].value_counts()"
        },
        {
            "cell_type": "markdown",
            "metadata": {
                "button": false,
                "new_sheet": false,
                "run_control": {
                    "read_only": false
                }
            },
            "source": "260 people have paid off the loan on time while 86 have gone into collection\n"
        },
        {
            "cell_type": "markdown",
            "metadata": {},
            "source": "Let's plot some columns to underestand data better:\n"
        },
        {
            "cell_type": "code",
            "execution_count": 7,
            "metadata": {},
            "outputs": [
                {
                    "name": "stdout",
                    "output_type": "stream",
                    "text": "Collecting package metadata (current_repodata.json): done\nSolving environment: done\n\n# All requested packages already installed.\n\n"
                }
            ],
            "source": "# notice: installing seaborn might takes a few minutes\n!conda install -c anaconda seaborn -y"
        },
        {
            "cell_type": "code",
            "execution_count": 8,
            "metadata": {},
            "outputs": [
                {
                    "data": {
                        "image/png": "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\n",
                        "text/plain": "<Figure size 432x216 with 2 Axes>"
                    },
                    "metadata": {
                        "needs_background": "light"
                    },
                    "output_type": "display_data"
                }
            ],
            "source": "import seaborn as sns\n\nbins = np.linspace(df.Principal.min(), df.Principal.max(), 10)\ng = sns.FacetGrid(df, col=\"Gender\", hue=\"loan_status\", palette=\"Set1\", col_wrap=2)\ng.map(plt.hist, 'Principal', bins=bins, ec=\"k\")\n\ng.axes[-1].legend()\nplt.show()"
        },
        {
            "cell_type": "code",
            "execution_count": 9,
            "metadata": {
                "button": false,
                "new_sheet": false,
                "run_control": {
                    "read_only": false
                }
            },
            "outputs": [
                {
                    "data": {
                        "image/png": "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\n",
                        "text/plain": "<Figure size 432x216 with 2 Axes>"
                    },
                    "metadata": {
                        "needs_background": "light"
                    },
                    "output_type": "display_data"
                }
            ],
            "source": "bins = np.linspace(df.age.min(), df.age.max(), 10)\ng = sns.FacetGrid(df, col=\"Gender\", hue=\"loan_status\", palette=\"Set1\", col_wrap=2)\ng.map(plt.hist, 'age', bins=bins, ec=\"k\")\n\ng.axes[-1].legend()\nplt.show()"
        },
        {
            "cell_type": "markdown",
            "metadata": {
                "button": false,
                "new_sheet": false,
                "run_control": {
                    "read_only": false
                }
            },
            "source": "# Pre-processing:  Feature selection/extraction\n"
        },
        {
            "cell_type": "markdown",
            "metadata": {
                "button": false,
                "new_sheet": false,
                "run_control": {
                    "read_only": false
                }
            },
            "source": "### Let's look at the day of the week people get the loan\n"
        },
        {
            "cell_type": "code",
            "execution_count": 10,
            "metadata": {
                "button": false,
                "new_sheet": false,
                "run_control": {
                    "read_only": false
                }
            },
            "outputs": [
                {
                    "data": {
                        "image/png": "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\n",
                        "text/plain": "<Figure size 432x216 with 2 Axes>"
                    },
                    "metadata": {
                        "needs_background": "light"
                    },
                    "output_type": "display_data"
                }
            ],
            "source": "df['dayofweek'] = df['effective_date'].dt.dayofweek\nbins = np.linspace(df.dayofweek.min(), df.dayofweek.max(), 10)\ng = sns.FacetGrid(df, col=\"Gender\", hue=\"loan_status\", palette=\"Set1\", col_wrap=2)\ng.map(plt.hist, 'dayofweek', bins=bins, ec=\"k\")\ng.axes[-1].legend()\nplt.show()\n"
        },
        {
            "cell_type": "markdown",
            "metadata": {
                "button": false,
                "new_sheet": false,
                "run_control": {
                    "read_only": false
                }
            },
            "source": "We see that people who get the loan at the end of the week don't pay it off, so let's use Feature binarization to set a threshold value less than day 4\n"
        },
        {
            "cell_type": "code",
            "execution_count": 11,
            "metadata": {
                "button": false,
                "new_sheet": false,
                "run_control": {
                    "read_only": false
                }
            },
            "outputs": [
                {
                    "data": {
                        "text/html": "<div>\n<style scoped>\n    .dataframe tbody tr th:only-of-type {\n        vertical-align: middle;\n    }\n\n    .dataframe tbody tr th {\n        vertical-align: top;\n    }\n\n    .dataframe thead th {\n        text-align: right;\n    }\n</style>\n<table border=\"1\" class=\"dataframe\">\n  <thead>\n    <tr style=\"text-align: right;\">\n      <th></th>\n      <th>Unnamed: 0</th>\n      <th>Unnamed: 0.1</th>\n      <th>loan_status</th>\n      <th>Principal</th>\n      <th>terms</th>\n      <th>effective_date</th>\n      <th>due_date</th>\n      <th>age</th>\n      <th>education</th>\n      <th>Gender</th>\n      <th>dayofweek</th>\n      <th>weekend</th>\n    </tr>\n  </thead>\n  <tbody>\n    <tr>\n      <th>0</th>\n      <td>0</td>\n      <td>0</td>\n      <td>PAIDOFF</td>\n      <td>1000</td>\n      <td>30</td>\n      <td>2016-09-08</td>\n      <td>2016-10-07</td>\n      <td>45</td>\n      <td>High School or Below</td>\n      <td>male</td>\n      <td>3</td>\n      <td>0</td>\n    </tr>\n    <tr>\n      <th>1</th>\n      <td>2</td>\n      <td>2</td>\n      <td>PAIDOFF</td>\n      <td>1000</td>\n      <td>30</td>\n      <td>2016-09-08</td>\n      <td>2016-10-07</td>\n      <td>33</td>\n      <td>Bechalor</td>\n      <td>female</td>\n      <td>3</td>\n      <td>0</td>\n    </tr>\n    <tr>\n      <th>2</th>\n      <td>3</td>\n      <td>3</td>\n      <td>PAIDOFF</td>\n      <td>1000</td>\n      <td>15</td>\n      <td>2016-09-08</td>\n      <td>2016-09-22</td>\n      <td>27</td>\n      <td>college</td>\n      <td>male</td>\n      <td>3</td>\n      <td>0</td>\n    </tr>\n    <tr>\n      <th>3</th>\n      <td>4</td>\n      <td>4</td>\n      <td>PAIDOFF</td>\n      <td>1000</td>\n      <td>30</td>\n      <td>2016-09-09</td>\n      <td>2016-10-08</td>\n      <td>28</td>\n      <td>college</td>\n      <td>female</td>\n      <td>4</td>\n      <td>1</td>\n    </tr>\n    <tr>\n      <th>4</th>\n      <td>6</td>\n      <td>6</td>\n      <td>PAIDOFF</td>\n      <td>1000</td>\n      <td>30</td>\n      <td>2016-09-09</td>\n      <td>2016-10-08</td>\n      <td>29</td>\n      <td>college</td>\n      <td>male</td>\n      <td>4</td>\n      <td>1</td>\n    </tr>\n  </tbody>\n</table>\n</div>",
                        "text/plain": "   Unnamed: 0  Unnamed: 0.1 loan_status  Principal  terms effective_date  \\\n0           0             0     PAIDOFF       1000     30     2016-09-08   \n1           2             2     PAIDOFF       1000     30     2016-09-08   \n2           3             3     PAIDOFF       1000     15     2016-09-08   \n3           4             4     PAIDOFF       1000     30     2016-09-09   \n4           6             6     PAIDOFF       1000     30     2016-09-09   \n\n    due_date  age             education  Gender  dayofweek  weekend  \n0 2016-10-07   45  High School or Below    male          3        0  \n1 2016-10-07   33              Bechalor  female          3        0  \n2 2016-09-22   27               college    male          3        0  \n3 2016-10-08   28               college  female          4        1  \n4 2016-10-08   29               college    male          4        1  "
                    },
                    "execution_count": 11,
                    "metadata": {},
                    "output_type": "execute_result"
                }
            ],
            "source": "df['weekend'] = df['dayofweek'].apply(lambda x: 1 if (x>3)  else 0)\ndf.head()"
        },
        {
            "cell_type": "markdown",
            "metadata": {
                "button": false,
                "new_sheet": false,
                "run_control": {
                    "read_only": false
                }
            },
            "source": "## Convert Categorical features to numerical values\n"
        },
        {
            "cell_type": "markdown",
            "metadata": {
                "button": false,
                "new_sheet": false,
                "run_control": {
                    "read_only": false
                }
            },
            "source": "Let's look at gender:\n"
        },
        {
            "cell_type": "code",
            "execution_count": 12,
            "metadata": {
                "button": false,
                "new_sheet": false,
                "run_control": {
                    "read_only": false
                }
            },
            "outputs": [
                {
                    "data": {
                        "text/plain": "Gender  loan_status\nfemale  PAIDOFF        0.865385\n        COLLECTION     0.134615\nmale    PAIDOFF        0.731293\n        COLLECTION     0.268707\nName: loan_status, dtype: float64"
                    },
                    "execution_count": 12,
                    "metadata": {},
                    "output_type": "execute_result"
                }
            ],
            "source": "df.groupby(['Gender'])['loan_status'].value_counts(normalize=True)"
        },
        {
            "cell_type": "markdown",
            "metadata": {
                "button": false,
                "new_sheet": false,
                "run_control": {
                    "read_only": false
                }
            },
            "source": "86 % of female pay there loans while only 73 % of males pay there loan\n"
        },
        {
            "cell_type": "markdown",
            "metadata": {
                "button": false,
                "new_sheet": false,
                "run_control": {
                    "read_only": false
                }
            },
            "source": "Let's convert male to 0 and female to 1:\n"
        },
        {
            "cell_type": "code",
            "execution_count": 13,
            "metadata": {
                "button": false,
                "new_sheet": false,
                "run_control": {
                    "read_only": false
                }
            },
            "outputs": [
                {
                    "data": {
                        "text/html": "<div>\n<style scoped>\n    .dataframe tbody tr th:only-of-type {\n        vertical-align: middle;\n    }\n\n    .dataframe tbody tr th {\n        vertical-align: top;\n    }\n\n    .dataframe thead th {\n        text-align: right;\n    }\n</style>\n<table border=\"1\" class=\"dataframe\">\n  <thead>\n    <tr style=\"text-align: right;\">\n      <th></th>\n      <th>Unnamed: 0</th>\n      <th>Unnamed: 0.1</th>\n      <th>loan_status</th>\n      <th>Principal</th>\n      <th>terms</th>\n      <th>effective_date</th>\n      <th>due_date</th>\n      <th>age</th>\n      <th>education</th>\n      <th>Gender</th>\n      <th>dayofweek</th>\n      <th>weekend</th>\n    </tr>\n  </thead>\n  <tbody>\n    <tr>\n      <th>0</th>\n      <td>0</td>\n      <td>0</td>\n      <td>PAIDOFF</td>\n      <td>1000</td>\n      <td>30</td>\n      <td>2016-09-08</td>\n      <td>2016-10-07</td>\n      <td>45</td>\n      <td>High School or Below</td>\n      <td>0</td>\n      <td>3</td>\n      <td>0</td>\n    </tr>\n    <tr>\n      <th>1</th>\n      <td>2</td>\n      <td>2</td>\n      <td>PAIDOFF</td>\n      <td>1000</td>\n      <td>30</td>\n      <td>2016-09-08</td>\n      <td>2016-10-07</td>\n      <td>33</td>\n      <td>Bechalor</td>\n      <td>1</td>\n      <td>3</td>\n      <td>0</td>\n    </tr>\n    <tr>\n      <th>2</th>\n      <td>3</td>\n      <td>3</td>\n      <td>PAIDOFF</td>\n      <td>1000</td>\n      <td>15</td>\n      <td>2016-09-08</td>\n      <td>2016-09-22</td>\n      <td>27</td>\n      <td>college</td>\n      <td>0</td>\n      <td>3</td>\n      <td>0</td>\n    </tr>\n    <tr>\n      <th>3</th>\n      <td>4</td>\n      <td>4</td>\n      <td>PAIDOFF</td>\n      <td>1000</td>\n      <td>30</td>\n      <td>2016-09-09</td>\n      <td>2016-10-08</td>\n      <td>28</td>\n      <td>college</td>\n      <td>1</td>\n      <td>4</td>\n      <td>1</td>\n    </tr>\n    <tr>\n      <th>4</th>\n      <td>6</td>\n      <td>6</td>\n      <td>PAIDOFF</td>\n      <td>1000</td>\n      <td>30</td>\n      <td>2016-09-09</td>\n      <td>2016-10-08</td>\n      <td>29</td>\n      <td>college</td>\n      <td>0</td>\n      <td>4</td>\n      <td>1</td>\n    </tr>\n  </tbody>\n</table>\n</div>",
                        "text/plain": "   Unnamed: 0  Unnamed: 0.1 loan_status  Principal  terms effective_date  \\\n0           0             0     PAIDOFF       1000     30     2016-09-08   \n1           2             2     PAIDOFF       1000     30     2016-09-08   \n2           3             3     PAIDOFF       1000     15     2016-09-08   \n3           4             4     PAIDOFF       1000     30     2016-09-09   \n4           6             6     PAIDOFF       1000     30     2016-09-09   \n\n    due_date  age             education  Gender  dayofweek  weekend  \n0 2016-10-07   45  High School or Below       0          3        0  \n1 2016-10-07   33              Bechalor       1          3        0  \n2 2016-09-22   27               college       0          3        0  \n3 2016-10-08   28               college       1          4        1  \n4 2016-10-08   29               college       0          4        1  "
                    },
                    "execution_count": 13,
                    "metadata": {},
                    "output_type": "execute_result"
                }
            ],
            "source": "df['Gender'].replace(to_replace=['male','female'], value=[0,1],inplace=True)\ndf.head()"
        },
        {
            "cell_type": "markdown",
            "metadata": {
                "button": false,
                "new_sheet": false,
                "run_control": {
                    "read_only": false
                }
            },
            "source": "## One Hot Encoding\n\n#### How about education?\n"
        },
        {
            "cell_type": "code",
            "execution_count": 14,
            "metadata": {
                "button": false,
                "new_sheet": false,
                "run_control": {
                    "read_only": false
                }
            },
            "outputs": [
                {
                    "data": {
                        "text/plain": "education             loan_status\nBechalor              PAIDOFF        0.750000\n                      COLLECTION     0.250000\nHigh School or Below  PAIDOFF        0.741722\n                      COLLECTION     0.258278\nMaster or Above       COLLECTION     0.500000\n                      PAIDOFF        0.500000\ncollege               PAIDOFF        0.765101\n                      COLLECTION     0.234899\nName: loan_status, dtype: float64"
                    },
                    "execution_count": 14,
                    "metadata": {},
                    "output_type": "execute_result"
                }
            ],
            "source": "df.groupby(['education'])['loan_status'].value_counts(normalize=True)"
        },
        {
            "cell_type": "markdown",
            "metadata": {
                "button": false,
                "new_sheet": false,
                "run_control": {
                    "read_only": false
                }
            },
            "source": "#### Features before One Hot Encoding\n"
        },
        {
            "cell_type": "code",
            "execution_count": 15,
            "metadata": {
                "button": false,
                "new_sheet": false,
                "run_control": {
                    "read_only": false
                }
            },
            "outputs": [
                {
                    "data": {
                        "text/html": "<div>\n<style scoped>\n    .dataframe tbody tr th:only-of-type {\n        vertical-align: middle;\n    }\n\n    .dataframe tbody tr th {\n        vertical-align: top;\n    }\n\n    .dataframe thead th {\n        text-align: right;\n    }\n</style>\n<table border=\"1\" class=\"dataframe\">\n  <thead>\n    <tr style=\"text-align: right;\">\n      <th></th>\n      <th>Principal</th>\n      <th>terms</th>\n      <th>age</th>\n      <th>Gender</th>\n      <th>education</th>\n    </tr>\n  </thead>\n  <tbody>\n    <tr>\n      <th>0</th>\n      <td>1000</td>\n      <td>30</td>\n      <td>45</td>\n      <td>0</td>\n      <td>High School or Below</td>\n    </tr>\n    <tr>\n      <th>1</th>\n      <td>1000</td>\n      <td>30</td>\n      <td>33</td>\n      <td>1</td>\n      <td>Bechalor</td>\n    </tr>\n    <tr>\n      <th>2</th>\n      <td>1000</td>\n      <td>15</td>\n      <td>27</td>\n      <td>0</td>\n      <td>college</td>\n    </tr>\n    <tr>\n      <th>3</th>\n      <td>1000</td>\n      <td>30</td>\n      <td>28</td>\n      <td>1</td>\n      <td>college</td>\n    </tr>\n    <tr>\n      <th>4</th>\n      <td>1000</td>\n      <td>30</td>\n      <td>29</td>\n      <td>0</td>\n      <td>college</td>\n    </tr>\n  </tbody>\n</table>\n</div>",
                        "text/plain": "   Principal  terms  age  Gender             education\n0       1000     30   45       0  High School or Below\n1       1000     30   33       1              Bechalor\n2       1000     15   27       0               college\n3       1000     30   28       1               college\n4       1000     30   29       0               college"
                    },
                    "execution_count": 15,
                    "metadata": {},
                    "output_type": "execute_result"
                }
            ],
            "source": "df[['Principal','terms','age','Gender','education']].head()"
        },
        {
            "cell_type": "markdown",
            "metadata": {
                "button": false,
                "new_sheet": false,
                "run_control": {
                    "read_only": false
                }
            },
            "source": "#### Use one hot encoding technique to conver categorical varables to binary variables and append them to the feature Data Frame\n"
        },
        {
            "cell_type": "code",
            "execution_count": 16,
            "metadata": {
                "button": false,
                "new_sheet": false,
                "run_control": {
                    "read_only": false
                }
            },
            "outputs": [
                {
                    "data": {
                        "text/html": "<div>\n<style scoped>\n    .dataframe tbody tr th:only-of-type {\n        vertical-align: middle;\n    }\n\n    .dataframe tbody tr th {\n        vertical-align: top;\n    }\n\n    .dataframe thead th {\n        text-align: right;\n    }\n</style>\n<table border=\"1\" class=\"dataframe\">\n  <thead>\n    <tr style=\"text-align: right;\">\n      <th></th>\n      <th>Principal</th>\n      <th>terms</th>\n      <th>age</th>\n      <th>Gender</th>\n      <th>weekend</th>\n      <th>Bechalor</th>\n      <th>High School or Below</th>\n      <th>college</th>\n    </tr>\n  </thead>\n  <tbody>\n    <tr>\n      <th>0</th>\n      <td>1000</td>\n      <td>30</td>\n      <td>45</td>\n      <td>0</td>\n      <td>0</td>\n      <td>0</td>\n      <td>1</td>\n      <td>0</td>\n    </tr>\n    <tr>\n      <th>1</th>\n      <td>1000</td>\n      <td>30</td>\n      <td>33</td>\n      <td>1</td>\n      <td>0</td>\n      <td>1</td>\n      <td>0</td>\n      <td>0</td>\n    </tr>\n    <tr>\n      <th>2</th>\n      <td>1000</td>\n      <td>15</td>\n      <td>27</td>\n      <td>0</td>\n      <td>0</td>\n      <td>0</td>\n      <td>0</td>\n      <td>1</td>\n    </tr>\n    <tr>\n      <th>3</th>\n      <td>1000</td>\n      <td>30</td>\n      <td>28</td>\n      <td>1</td>\n      <td>1</td>\n      <td>0</td>\n      <td>0</td>\n      <td>1</td>\n    </tr>\n    <tr>\n      <th>4</th>\n      <td>1000</td>\n      <td>30</td>\n      <td>29</td>\n      <td>0</td>\n      <td>1</td>\n      <td>0</td>\n      <td>0</td>\n      <td>1</td>\n    </tr>\n  </tbody>\n</table>\n</div>",
                        "text/plain": "   Principal  terms  age  Gender  weekend  Bechalor  High School or Below  \\\n0       1000     30   45       0        0         0                     1   \n1       1000     30   33       1        0         1                     0   \n2       1000     15   27       0        0         0                     0   \n3       1000     30   28       1        1         0                     0   \n4       1000     30   29       0        1         0                     0   \n\n   college  \n0        0  \n1        0  \n2        1  \n3        1  \n4        1  "
                    },
                    "execution_count": 16,
                    "metadata": {},
                    "output_type": "execute_result"
                }
            ],
            "source": "Feature = df[['Principal','terms','age','Gender','weekend']]\nFeature = pd.concat([Feature,pd.get_dummies(df['education'])], axis=1)\nFeature.drop(['Master or Above'], axis = 1,inplace=True)\nFeature.head()\n"
        },
        {
            "cell_type": "markdown",
            "metadata": {
                "button": false,
                "new_sheet": false,
                "run_control": {
                    "read_only": false
                }
            },
            "source": "### Feature Selection\n"
        },
        {
            "cell_type": "markdown",
            "metadata": {
                "button": false,
                "new_sheet": false,
                "run_control": {
                    "read_only": false
                }
            },
            "source": "Let's define feature sets, X:\n"
        },
        {
            "cell_type": "code",
            "execution_count": 17,
            "metadata": {
                "button": false,
                "new_sheet": false,
                "run_control": {
                    "read_only": false
                }
            },
            "outputs": [
                {
                    "data": {
                        "text/html": "<div>\n<style scoped>\n    .dataframe tbody tr th:only-of-type {\n        vertical-align: middle;\n    }\n\n    .dataframe tbody tr th {\n        vertical-align: top;\n    }\n\n    .dataframe thead th {\n        text-align: right;\n    }\n</style>\n<table border=\"1\" class=\"dataframe\">\n  <thead>\n    <tr style=\"text-align: right;\">\n      <th></th>\n      <th>Principal</th>\n      <th>terms</th>\n      <th>age</th>\n      <th>Gender</th>\n      <th>weekend</th>\n      <th>Bechalor</th>\n      <th>High School or Below</th>\n      <th>college</th>\n    </tr>\n  </thead>\n  <tbody>\n    <tr>\n      <th>0</th>\n      <td>1000</td>\n      <td>30</td>\n      <td>45</td>\n      <td>0</td>\n      <td>0</td>\n      <td>0</td>\n      <td>1</td>\n      <td>0</td>\n    </tr>\n    <tr>\n      <th>1</th>\n      <td>1000</td>\n      <td>30</td>\n      <td>33</td>\n      <td>1</td>\n      <td>0</td>\n      <td>1</td>\n      <td>0</td>\n      <td>0</td>\n    </tr>\n    <tr>\n      <th>2</th>\n      <td>1000</td>\n      <td>15</td>\n      <td>27</td>\n      <td>0</td>\n      <td>0</td>\n      <td>0</td>\n      <td>0</td>\n      <td>1</td>\n    </tr>\n    <tr>\n      <th>3</th>\n      <td>1000</td>\n      <td>30</td>\n      <td>28</td>\n      <td>1</td>\n      <td>1</td>\n      <td>0</td>\n      <td>0</td>\n      <td>1</td>\n    </tr>\n    <tr>\n      <th>4</th>\n      <td>1000</td>\n      <td>30</td>\n      <td>29</td>\n      <td>0</td>\n      <td>1</td>\n      <td>0</td>\n      <td>0</td>\n      <td>1</td>\n    </tr>\n  </tbody>\n</table>\n</div>",
                        "text/plain": "   Principal  terms  age  Gender  weekend  Bechalor  High School or Below  \\\n0       1000     30   45       0        0         0                     1   \n1       1000     30   33       1        0         1                     0   \n2       1000     15   27       0        0         0                     0   \n3       1000     30   28       1        1         0                     0   \n4       1000     30   29       0        1         0                     0   \n\n   college  \n0        0  \n1        0  \n2        1  \n3        1  \n4        1  "
                    },
                    "execution_count": 17,
                    "metadata": {},
                    "output_type": "execute_result"
                }
            ],
            "source": "X = Feature\nX[0:5]"
        },
        {
            "cell_type": "markdown",
            "metadata": {
                "button": false,
                "new_sheet": false,
                "run_control": {
                    "read_only": false
                }
            },
            "source": "What are our lables?\n"
        },
        {
            "cell_type": "code",
            "execution_count": 18,
            "metadata": {
                "button": false,
                "new_sheet": false,
                "run_control": {
                    "read_only": false
                }
            },
            "outputs": [
                {
                    "data": {
                        "text/plain": "array(['PAIDOFF', 'PAIDOFF', 'PAIDOFF', 'PAIDOFF', 'PAIDOFF'],\n      dtype=object)"
                    },
                    "execution_count": 18,
                    "metadata": {},
                    "output_type": "execute_result"
                }
            ],
            "source": "y = df['loan_status'].values\ny[0:5]"
        },
        {
            "cell_type": "markdown",
            "metadata": {
                "button": false,
                "new_sheet": false,
                "run_control": {
                    "read_only": false
                }
            },
            "source": "## Normalize Data\n"
        },
        {
            "cell_type": "markdown",
            "metadata": {
                "button": false,
                "new_sheet": false,
                "run_control": {
                    "read_only": false
                }
            },
            "source": "Data Standardization give data zero mean and unit variance (technically should be done after train test split)\n"
        },
        {
            "cell_type": "code",
            "execution_count": 19,
            "metadata": {
                "button": false,
                "new_sheet": false,
                "run_control": {
                    "read_only": false
                }
            },
            "outputs": [
                {
                    "data": {
                        "text/plain": "array([[ 0.51578458,  0.92071769,  2.33152555, -0.42056004, -1.20577805,\n        -0.38170062,  1.13639374, -0.86968108],\n       [ 0.51578458,  0.92071769,  0.34170148,  2.37778177, -1.20577805,\n         2.61985426, -0.87997669, -0.86968108],\n       [ 0.51578458, -0.95911111, -0.65321055, -0.42056004, -1.20577805,\n        -0.38170062, -0.87997669,  1.14984679],\n       [ 0.51578458,  0.92071769, -0.48739188,  2.37778177,  0.82934003,\n        -0.38170062, -0.87997669,  1.14984679],\n       [ 0.51578458,  0.92071769, -0.3215732 , -0.42056004,  0.82934003,\n        -0.38170062, -0.87997669,  1.14984679]])"
                    },
                    "execution_count": 19,
                    "metadata": {},
                    "output_type": "execute_result"
                }
            ],
            "source": "X= preprocessing.StandardScaler().fit(X).transform(X)\nX[0:5]"
        },
        {
            "cell_type": "markdown",
            "metadata": {
                "button": false,
                "new_sheet": false,
                "run_control": {
                    "read_only": false
                }
            },
            "source": "# Classification\n"
        },
        {
            "cell_type": "markdown",
            "metadata": {
                "button": false,
                "new_sheet": false,
                "run_control": {
                    "read_only": false
                }
            },
            "source": "Now, it is your turn, use the training set to build an accurate model. Then use the test set to report the accuracy of the model\nYou should use the following algorithm:\n\n*   K Nearest Neighbor(KNN)\n*   Decision Tree\n*   Support Vector Machine\n*   Logistic Regression\n\n\\__ Notice:\\__\n\n*   You can go above and change the pre-processing, feature selection, feature-extraction, and so on, to make a better model.\n*   You should use either scikit-learn, Scipy or Numpy libraries for developing the classification algorithms.\n*   You should include the code of the algorithm in the following cells.\n"
        },
        {
            "cell_type": "markdown",
            "metadata": {},
            "source": "# K Nearest Neighbor(KNN)\n\nNotice: You should find the best k to build the model with the best accuracy.\\\n**warning:** You should not use the **loan_test.csv** for finding the best k, however, you can split your train_loan.csv into train and test to find the best **k**.\n"
        },
        {
            "cell_type": "code",
            "execution_count": 20,
            "metadata": {},
            "outputs": [
                {
                    "name": "stdout",
                    "output_type": "stream",
                    "text": "Train set:  (259, 8) (259,)\nTest set:  (87, 8) (87,)\n"
                }
            ],
            "source": "from sklearn.model_selection import train_test_split\nX_train, X_test, y_train, y_test = train_test_split(X, y, test_size = 0.25, random_state = 5)\nprint(\"Train set: \", X_train.shape, y_train.shape)\nprint(\"Test set: \", X_test.shape, y_test.shape)"
        },
        {
            "cell_type": "code",
            "execution_count": 21,
            "metadata": {},
            "outputs": [
                {
                    "data": {
                        "image/png": "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\n",
                        "text/plain": "<Figure size 432x288 with 1 Axes>"
                    },
                    "metadata": {
                        "needs_background": "light"
                    },
                    "output_type": "display_data"
                }
            ],
            "source": "from sklearn.neighbors import KNeighborsClassifier\nfrom sklearn.metrics import accuracy_score\nk=3\nkNN_model = KNeighborsClassifier(n_neighbors = k).fit(X_train, y_train)\ny_predict = kNN_model.predict(X_test)\naccuracies = {}\nfor i in range(1,10):\n    kNN_model = KNeighborsClassifier(n_neighbors = i).fit(X_train, y_train)\n    y_predict = kNN_model.predict(X_test)\n    accuracies[i] = accuracy_score(y_test, y_predict)\nmyList = accuracies.items()\nm, n = zip(*myList)\nplt.plot(m,n)\nplt.title('K values')\nplt.show()"
        },
        {
            "cell_type": "code",
            "execution_count": 22,
            "metadata": {},
            "outputs": [
                {
                    "name": "stdout",
                    "output_type": "stream",
                    "text": "We take K=4\nTrain set Accuracy (Jaccard):  0.833976833976834\nTest set Accuracy (Jaccard):  0.7011494252873564\nTrain set Accuracy (F1):  0.8371469048110269\nTest set Accuracy (F1):  0.7011494252873564\n"
                }
            ],
            "source": "from sklearn.metrics import f1_score\nfrom sklearn import metrics\nprint(\"We take K=4\")\nknn_model = KNeighborsClassifier(n_neighbors = 4).fit(X_train, y_train)\n\nprint(\"Train set Accuracy (Jaccard): \", metrics.accuracy_score(y_train, knn_model.predict(X_train)))\nprint(\"Test set Accuracy (Jaccard): \", metrics.accuracy_score(y_test, knn_model.predict(X_test)))\n\nprint(\"Train set Accuracy (F1): \", f1_score(y_train, knn_model.predict(X_train), average='weighted'))\nprint(\"Test set Accuracy (F1): \", f1_score(y_test, knn_model.predict(X_test), average='weighted'))"
        },
        {
            "cell_type": "markdown",
            "metadata": {},
            "source": "# Decision Tree\n"
        },
        {
            "cell_type": "code",
            "execution_count": 23,
            "metadata": {},
            "outputs": [],
            "source": "from sklearn.tree import DecisionTreeClassifier\nimport sklearn.tree as tree\ndrugTree = DecisionTreeClassifier(criterion=\"entropy\", max_depth = 3)\ndrugTree.fit(X_train,y_train)\npredTree = drugTree.predict(X_test)"
        },
        {
            "cell_type": "code",
            "execution_count": 24,
            "metadata": {},
            "outputs": [
                {
                    "name": "stdout",
                    "output_type": "stream",
                    "text": "DecisionTrees's Accuracy:  0.6896551724137931\n"
                }
            ],
            "source": "print(\"DecisionTrees's Accuracy: \", metrics.accuracy_score(y_test, predTree))"
        },
        {
            "cell_type": "code",
            "execution_count": 25,
            "metadata": {},
            "outputs": [
                {
                    "name": "stdout",
                    "output_type": "stream",
                    "text": "Avg F1-score:  0.5629838142153414\n"
                }
            ],
            "source": "print(\"Avg F1-score: \", f1_score(y_test, predTree, average='weighted'))"
        },
        {
            "cell_type": "code",
            "execution_count": 26,
            "metadata": {},
            "outputs": [
                {
                    "data": {
                        "image/png": "iVBORw0KGgoAAAANSUhEUgAAAV0AAADnCAYAAAC9roUQAAAAOXRFWHRTb2Z0d2FyZQBNYXRwbG90bGliIHZlcnNpb24zLjUuMCwgaHR0cHM6Ly9tYXRwbG90bGliLm9yZy8/fFQqAAAACXBIWXMAAAsTAAALEwEAmpwYAABE1ElEQVR4nO3de1xU1f74/9dGBTSDvICkonUsNTO1/NUnDfWQ+VFP3/BSeUluInE7KHMo0AOkaF4SEdG84AXUvHGORaIlHU+mpYYn/QhmmUfTVPBW4jVkQGfW74+RyeEmI3OF9Xw85lEzs2evtZdrv9l77fdeWxFCIEmSJFmGg7UrIEmS1JDIoCtJkmRBMuhKkiRZkAy6kiRJFiSDriRJkgXJoCtJkmRBMuhKkiRZkAy6kiRJFiSDriRJkgXJoCtJkmRBMuhKkiRZkAy6kiRJFiSDriRJkgXJoCtJkmRBMuhKkiRZkAy6kiRJFtTY2hWQ7E/Tpk0vqtXqNtauhy1wdna+VFJS4mHtekj2Q5FPjpCMpSiKkP1GR1EUhBCKtesh2Q85vCBJkmRBMuhKkiRZkAy6kknt3buXxMREAEJCQjh+/DiBgYGkpKTol0lPT2fgwIEA7N+/n169eqFWq6tdZ1lZmdH1SE1NJTIykvDwcO4dCjl16hQTJkxgzJgx+s8mTpzI22+/zZtvvsnvv//O9u3befPNNxk1ahQ7duwwumxJqokMupJJeXl5UVpaynvvvcczzzxD586dAYiIiAB0Qe/KlSu4ubkB8OKLL9KrV68q17V//36io6OZOHGiUXUoKysjPz+fxYsX8/TTT7Nv3z79d3/6059IT083WP63335j5cqVPPfccxQUFLBv3z4++OADFi5cyM6dO40qW5LuR2YvSCY3btw4+vXrx/nz5w0+12q1pKSkkJKSgr+/f7W/z83NZcqUKYwbN46pU6fyyCOPALB9+3aDI083Nzfi4+Mr/b6oqIjWrVsD0LFjRwoKCmqsb6dOnRg6dCiNGzcmJiaGESNG4Ovri1arZcWKFbXdbEmqFXmkK5mUVqtlxowZ/OMf/2D69OkG3508eZLz588zadIkDh48yNatW6tcR48ePQgKCuLAgQOkpqZy/PhxAO7cuYNarda/SktLDX6XmpqKSqWiVatWXL58GYCzZ8/Svn37aut7+fJlfvvtN3Jychg9ejSfffYZ8+bN45tvvmHPnj3MnTu3Ls0hSZUJIeRLvox66bpN1ZKSksRnn30mhBAiISFB7N27VwQEBIiSkhKD5UaPHq3//6q+L3f69Gnx/vvvV1tedebPny+ioqJEaGio0Gq1Yv78+eLQoUPi8uXLIjQ0VHTq1EnMnTtXaLVaERwcLMLDw8WIESNEYWGh2LBhgwgICBB+fn5i7dq1NZZzty2s/m8iX/bzknm6ktGMzdMNDAwkLS0NZ2fnB/relsk8XclYcnhBMruuXbuSlpZW5Xf79+9HrVbj4CC7otQwyCNdyWgPekdaVUe0Wq3WrAE3NTWVn3/+GY1Gw9KlS1EU3UHpvn37WLduHXfu3OHo0aPs3btXn2Hx5Zdf8vnnn9OlSxeOHDnCwIEDOXv2bJVH4vJIVzKWPLyQTOLMmTNERUURGRnJggULOH36NAMGDCA5OZmgoCCKi4vJz89n5syZHD16lH79+jF37lwOHDhAQEAAKpWKGTNmANCvXz/mzZtHcHAwFy5cICAgALVazblz51CpVLWuU02pYy+99BJpaWm89tprBAQE4ODgQFpaGh9++CHdu3enS5culJWVsWrVKoYOHWrq5pIaMBl0JZNYunQpzZo1o3Xr1vzwww+ALgvh3XffpUWLFty4cYNevXqRkJBAt27daN68OZMnT+bXX3/l5ZdfJjU1lTNnznDjxg2aNWtGTEwMf/3rX1m/fj1+fn5s3LiR5cuXExISoi9Tq9WiUqkMXv/3f/+n/742qWMbN25k7Nix+vfZ2dn4+PgAkJyczKRJk/RHx5JkCjJPVzIJrVaLv78/Tz/9NACnT5/moYceAqBJkyaUlpYaDCO4uroCuuyZisMLd+7cAeD27dsoisIrr7yCn58fWq2Wbt26GSxb8U42jUaj//+KqWM9evQwWLawsBBXV1dcXFz0n2VmZrJ27VoADh48yNmzZ8nNzWXhwoVMnjzZyFaRpMpk0JVMIjIykri4OB599FEefvhhAgICKi3Tp08fVCoVkZGR+s8GDx5MSEgI+fn5eHp64uLigkajIS4ujlOnTrFgwQJAdzGuPKCXKx8SqI6joyM9evRApVKhVquJiIggJSUFb29vnn32WTIyMggMDNQvf+bMGdzc3PR/LLKysgDdWHRUVNQDt40k3UteSJOMZu6pHceMGUNmZqb+fXZ2Np988glr1qyxuSwHeSFNMpYMupLR5Hy6f5BBVzKWHF6QbNaaNWvw8PBgyJAhJlnfiRMnmDNnDmq1mueee453332XwMBAmjRpQqNGjVi4cCEnT54kMTGR1q1bM2jQIEaMGGGSsiWpnAy6kklt2rSJnTt34urqyuzZs9m8eTP5+fncuHGDJUuWMGvWLK5du8bVq1d55plnuHLlCgUFBaxbtw4fHx+8vLw4deqUwcxiZ86cISUlBY1Go5+cZtq0aXh6ehIYGEj37t1rVbcnn3ySjIwMAN544w0AmjZtikajoWXLljg6OpKTk4NKpaJv3768/vrrMuhKJieDrmRSBQUF9OzZk+HDh+Pk5AToshfOnTtHXl4eAGPHjuWpp54iICCATz/9lPDwcK5evYpGoyE6OpqbN2+SkJDA888/D/yRjubk5MQPP/xAnz59aNGiBb6+vgYB9/Lly8ycOdOgPlFRUTz++OMGn2VmZurn812yZAkODg4sWrSInJwc/Pz8mD59Olu2bOHixYtmayep4ZJBVzKp2NhYDh8+TExMDDNnziQrK4usrCymT5/OrVu3AF26mKOjoz5tzMnJidLSUrRaLVqtVp8qVq5iOhpAu3btSE9P5/Dhw/pMCSFEpRQyrVZr8H7z5s2cOXNGn/5VfmHO3d2dmzdv4u7uzpIlS9BoNIwcOdLErSNJMuhKJrZixQpOnDiBoii0bNkSNzc3kpKS+O677xgwYECNv3VycmLGjBmcPHmShIQEDhw4AFROR+vfvz/btm2jqKiIQYMG6X/v5uZWYwrZkSNHUKlUvPbaa0RHR5OSkkJ0dDRqtZqrV6+Snp7O6dOnmTVrFrdu3SImJsY0jSJJ95DZC5LRzJW9UDFVzB7I7AXJWDLoSkaTKWN/kEFXMpZtZZpLkiTVczLoSmZ375N3TcXLy0v/uJ8nnniCsLAw/fPMFi1aRHBwMKGhoVy6dKnK3wcHBzN+/HjGjx+PVqvlwoUL+Pn5ERAQwO7duwGIj49n0qRJxMXFAbqsB1PlDEsNlwy6Up2EhoZy5coVNBoNb731FufPnyc+Pp6wsDC2bNlisGx58E1LS2P37t3k5eWhUqmIiIhg/fr1RpXbvn17/WxgzZs3p6SkhI4dOwLwzTffsGrVKkJDQ1m1alWVv1+1ahWrV6/GxcWFixcvsmrVKuLi4li9ejUrVqygoKCAO3fusGjRIm7fvk1BQQFjxozRPyRTkh6UzF6Q6mTUqFFs3ryZjh07MmjQIBo3bkxZWRlt2rRhw4YNDB8+vNrfpqam6nNo8/Ly8PX11X+XmJjItWvX9O9fffVVg0yFex06dAghBMOGDWPw4MFMmDCBiIgIWrZsSVFRUbXlHzt2DLVaTdu2bSksLMTT01OfQlb+HqBDhw4G7yWpLmTQlerE29ubjIwMmjdvzrx581i5ciUjRoygd+/eDBs2zGDZ8oBWXFwM6CYZV6lUVR49lpaWGuTclk/3WJXy9To6OiKEYOjQoQwdOpSdO3dy5MiRKn/z008/MX/+fJYsWQLojpwLCwvp3LkzoMsDzs7OBnQ3fNT0x0OSjCGDrlQnDg4OeHp6cunSJVxcXOjbty/Lly+nS5cuODo6Gizr4eFBcnIye/fupXfv3sTExBAZGUmbNm147LHHDG79nTNnTq3KP3bsGHPnzkVRFAYMGICiKKxbt47c3FxKS0tZtGgRly5dIicnx2Aax4EDBzJ48GCioqJISEhgwoQJTJkyhcaNGxMcHEyHDh1wcHAgOjoaJycneZQrmYxMGZOMZgspY8bk9H7xxRc0a9aM/v37m7xcmTImGUteSJPskouLiz574X6GDBlikoCbmZlJ27Zt67weqWGTR7qS0WzhSNdWyCNdyVhyTFcymrOz8yVFUdpYux62wNnZuepEYEmqhjzSlUxOUZRGwAfASGC4EKLqFAIbpCiKO/AxcA3wFULcsG6NpPpGjulKJqUoSgvgc+BZ4AV7CrgAQohfgVeAQmC/oihPWrlKUj0jg65kMoqidAO+A34Chgghqr8zwYYJIcqEEBHAQmCvoiiDrV0nqf6QwwuSSSiK8hqQDsQKIdZYuTomoyhKP+AfQAowX15BlOpKBl2pThTdIx7igHDgdSHEf6xcJZNTFKUD8Cm6I/i3hRAlVq6SZMfk8IL0wBRFaQ78E3gN3fhtvQu4AEKIs0A/QAH2KIoib0+THpgMutIDURTlcWAfcBP4sxDivJWrZFZCiFuAL7qhhv8oivKSlask2SkZdCWjKYriDeQCq4AJQgj1fX5SLwideUAQkKUoytvWrpNkf+SYrlRrd8dvI4F44C0hxFdWrpLVKIrSGcgGvgJUQojbVq6SZCdk0JVqRVEUJ2Ap8Dy6Gx5OWblKVqcoiiuwHnAB3hBC/GblKkl2QA4vSPelKMqjwC7AFegrA66OEOI6MAzYAxxQFKWXdWsk2QMZdKUaKYryArobHnKAUUKI361cJZsihNAKIRKAGGCHoiijrV0nybbJ4QWpWoqi+APJ6HJTs61dH1unKEpPYAuwCXhPCKGxbo0kWySDrmRAUZT3gUOAF+CDbvz2R+vWyn4oiuKGLne5GN0Fx0QhxAjr1kqyJTLoSnqKorQCTgKHATUwVghxxbq1sj+KojRBd9vwIOAhYLQQ4lvr1kqyFXJMV7rXVKAp4ARogEbWrY59ups+5oZupjJ3IMm6NZJsiZzEXLrX/wL/Bb5Ad7fZZetWx64lAQPR/eHqpcjHbUh3yeEFSZIkC5LDC5IkSRYkhxeM1LRp04tqtbpBPh/M2dn5UklJiYe162GLZL+Q/aK25PCCkRry0Jx88m31ZL+Q/aK25PCCJEmSBcmgK0mSZEEy6JrA3r17SUxMBCAkJITjx48TGBhISkoKAMHBwYwfP57x48ej1WrZv38/vXr1Qq2ufhrasrIyo+uRmppKZGQk4eHhVDzVLS4upnfv3nzxxRfVLnvkyBHc3d1rrJdkvPv1j5SUFJ577jmOHTsGYLb+ER8fT+fOnatcb8X+sXXrViIjI/nb3/4m+4OJyaBrAl5eXpSWlvLee+/xzDPP0LlzZwAiIiIAWLVqFatXr8bFxYWLFy/y4osv0qtXryrXtX//fqKjo5k4caJRdSgrKyM/P5/Fixfz9NNPs2/fPoPv586dy+jRo6tdtqysjFWrVjF06FAjt166n/v1j+joaHx8fPTLm6N/AMyaNYu+fftW+d29/UOj0bBs2TIaN26Mi4sLTk5ORpclVU9mL5jIuHHj6NevH+fPV/3UmmPHjqFWq2nbtm2V3+fm5jJlyhTGjRvH1KlTeeSRRwDYvn07O3bs0C/n5uZGfHx8pd8XFRXRunVrADp27EhBQYH+ux07dtC9e3du3bpV7bLffPMNkyZN4v333zd+46X7ul//uJ+69o+aVOwfv/32G9euXSM1NZXFixfz1VdfMXDgwAeqt1SZPNI1Aa1Wy4wZM/jHP/7B9OnTK33/008/kZyczKJFi6pdR48ePQgKCuLAgQOkpqZy/PhxAO7cuYNarda/SktLDX6XmpqKSqWiVatWXL6su4Hs7NmztG/fXr/MV199xVdffcXatWv58MMPq1z24MGDzJs3j9zcXBYuXFjnNpH+cL/+URt17R81DUdU7B8tW7akXbt2ALRs2ZLff5ezeZqUEEK+jHihf1TWH5KSksRnn30mhBAiISFB7N27VwQEBIiSkhIhhBCPPvqoCAwMFKGhoaKgoEAIIQy+r+j06dPi/fffr/K7msyfP19ERUWJ0NBQodVqxfz588WhQ4f0369evVrk5ORUuWy5mup1d9ut/m9gi6+q+kW5+/WPNWvWiN69e4vRo0eLH3/88b7/DnXpH507dxbBwcHi4sWLNfaPhQsXikmTJonx48cLtVpd43plvzCyr1i7Avb2qmnnuldNO01tvrdFcueqe78oV5/6h+wXxr3k8IKZdO3albS0tCq/279/P2q1GgcH2fwNlewfDZe8I81Ixt55FBgYSFpaGs7OzvrPtFqtWXeo1NRUfv75ZzQaDUuXLkX3EF9dWtDEiRNp3Lgx3t7ejB49Wn8F/csvv+Tzzz/HxcWFOXPmIIRgzJgxvPTSS/r1yjuPqmfP/eLo0aMkJibSunVrBg0axIgRI9i6dSs7duygSZMmzJkzh6+++orFixfj4+NDWFiYwXplvzCO/FNaB2fOnCEqKorIyEgWLFjA6dOnGTBgAMnJyQQFBVFcXEx+fj4zZ87k6NGj9OvXj7lz53LgwAECAgJQqVTMmDEDgH79+jFv3jyCg4O5cOECAQEBqNVqzp07h0qlqnWdakody8rK4s0332TFihVkZ2fj4OBAWloaH374Id27d6dLly6kpKTQrFkz7ty5U22mhVQze+sXOTk5qFQqli5dyvr166tMGfvLX/5CbGysqZuqQZIpY3WwdOlSmjVrhpOTEz/88AMjRoygR48evPvuu7zzzjvcuHGDXr16kZCQgLOzM82bN2fy5Mls27aNl19+mYCAACZMmMCNGzdo1qwZMTEx5OXlsX79evz8/Ni4cSOnT58mJCREX6ZWqyU6OtqgHn5+fvTu3RuoOXWssLCQZ599FsDgiCo7O1ufJ3rkyBFSU1Nxd3cnJiaG9PR08zRePWZv/cLPz4/p06ezZcsWLl68KFPGzEwG3TrQarX4+/vz9NNPA3D69GkeeughAJo0aUJpaalBcHN1dQV0Fy8rnkbeuXMHgNu3b6MoCq+88gp+fn5otVq6detmsGzFO4Q0mj+ef1gxHaxHjx7679q3b09hYSHdu3dHq9XqP8/MzGTt2rX6ZVq2bMnDDz9cKf1Iqh176xfu7u4sWbIEjUbDyJEjZcqYmcmgWweRkZHExcXx6KOP8vDDDxMQEFBpmT59+qBSqYiMjNR/NnjwYEJCQsjPz8fT0xMXFxc0Gg1xcXGcOnWKBQsWALqLLeU7brnyIYHqODo60qNHD1QqFWq1moiICFJSUvD29mbkyJFMnDiR7OxsXnvtNUB3Kuzm5qYPCtHR0cTGxqIoCuHh4XVuo4bI3vpFixYtmDVrFrdu3SImJgZHR0f69+9PVFQUN2/eZNmyZeTm5pKSksK1a9fw8PBg+PDhpmmsBkheSDOSuabwGzNmDJmZmfr32dnZfPLJJ6xZs8ZmrmLLCybVk/1C9ovakkHXSHLeVLlzVUX2C9kvass2/lRKemvWrNHP9GQqoaGh+gtoALt37yYwMBBfX18uXLjA2bNnGTZsGEFBQXzwwQcmLVsyDUv0i8DAQN5++23CwsIoLS3l1KlTTJgwgTFjxpi03IZOjumawKZNm9i5cyeurq7Mnj2bzZs3k5+fz40bN1iyZAmzZs3i2rVrXL16lWeeeYYrV65QUFDAunXr8PHxwcvLi1OnThnMHHXmzBlSUlLQaDR06tSJoUOHMm3aNDw9PQkMDKR79+61rt/y5csNdpyVK1eyfv16fvzxR9LT0/mf//kffHx8mDBhAv7+/iZtm4bM3vpF06ZN0Wg0tGzZEkdHR/70pz+Rnp4ug66JyaBrAgUFBfTs2ZPhw4frp8Fr0qQJ586dIy8vD4CxY8fy1FNPERAQwKeffkp4eDhXr15Fo9EQHR3NzZs3SUhI4Pnnnwcqpx316dOHFi1a4Ovra7BjXb58mZkzZxrUJyoqiscff7za+gohUBRFnzoUHh7O7Nmz2bBhA76+vqZungbL3vrFkiVLcHBwYNGiReTk5PCXv/zF1E0iIYOuScTGxnL48GFiYmKYOXMmWVlZZGVlMX36dP10ea6urjg6OurTg5ycnCgtLUWr1aLVavUpQeUqph0BtGvXjvT0dA4fPqy/Ii6EqJQqdG86WFXujsHpZxhbvXq1fq7VN954g6CgIJO0S0Nnb/2i/MKcu7s7N2/erHsDSFWSQdcEVqxYwYkTJ1AUhZYtW+Lm5kZSUhLfffcdAwYMqPG3Tk5OzJgxg5MnT5KQkMCBAweAymlH/fv3Z9u2bRQVFTFo0CD9793c3GpMFQLdEwMOHjxIWFgYixcvZsKECQQHB1NWVsbcuXO5cuUKM2bM4KOPPuKxxx6rc3tIOvbWL2JjY1Gr1Vy9epX09HSKior0yyQlJck70kxEZi8YydRXqSumBNkyeZW6erJfyH5RWzLoGkmmBsmdqyqyX8h+UVsyZUySJMmCZNA1M3Ok23h5ebF161agcq5lRdevXycoKMhgvC8zM5OQkBACAwO5desWW7duJSwsjDFjxjB27FjUarV+6kHJPMzdL5544gnCwsJYsWIFAOnp6fj6+jJy5Ejy8/Or/H1CQgIhISFERkZSUlLCnj17CA8PZ9SoUWzdulX2CxORQbcOQkNDuXLlChqNhrfeeovz588THx9PWFgYW7ZsMVi2fCdLS0tj9+7d5OXloVKpiIiIYP369UaV2759e/2sYMuXL6dLly7VLuvq6kpGRgatWrXSf7Z161ZWrFjBG2+8QVZWFj4+PqSlpdGnTx8CAwNxdnYmMDDQqDpJf7CFftG8eXNKSkro2LEjoHsM/KpVq4iJiSE3N7fK3//000+sWLGCl19+maysLPr168eyZctYvnw5e/bskf3CRGT2Qh2MGjWKzZs307FjRwYNGkTjxo0pKyujTZs2bNiwocZJQVJTU/U5k3l5eQb5sYmJiVy7dk3//tVXXzU4UjWVjh07cuTIEf37f//73w/0aG/JkC30i0OHDiGEYNiwYQwePJjXX3+dQYMGcfv2bT7++OMqfzNs2DD9v3/5g00/+ugjFi1axPz5841pAqkGMujWgbe3NxkZGTRv3px58+axcuVKRowYQe/evRk2bJjBsuU5kMXFxYBuUmmVSqV/lPa9SktLDXIsy6f3M7V7nxqcm5vLCy+8YDOTqNgzW+gX5et1dHRECEFGRgZ79uyhsLCQ5ORkUlNTK/3G398ff39/0tPT9WdG/v7+vPXWW4wZM+a+aW5S7cigWwcODg54enpy6dIlXFxc6Nu3r/5039HR0WBZDw8PkpOT2bt3L7179yYmJobIyEjatGnDY489ZnCEOWfOnFrXoWKuZWZmJt7e3vr5UAHCwsI4ePAgkydPZu7cufy///f/iIiI4NatWyxZsgSAjIwMpk2bVscWkcD6/eLYsWPMnTsXRVEYMGAAiqLg5eVFSEgI169fJzg4mEuXLpGTk2MwXLBgwQJOnDhBo0aNWLhwIVlZWezevZvff/+dsWPHmqRtJOTTgI19YeRTX81h9OjR1X4XHx8vNBpNncvYtWuXWLZsmcFnyKe+2m2/qCgnJ0d8/fXXRpch+0XdX/Jc0g65uLjor1JXNHPmzDoPEajVarZs2SKfkWZnauoXFQ0ZMoT+/fsbtX7ZL0xD3hxhJJkEL5PgqyL7hewXtSXHdI3k7Ox8SVGUNtauhzU4OztfsnYdbJXsF1JtySNdK1IUJQzwA/oJIWqeAsr4dU8FnhVCjDDleiXzUxTlPaC3EGK4Gdb9IeAshHjb1OuWakcGXSu5e1R0BBgohDhyv+UfYP1Od9f/jhBim6nXL5mHoihPAPuB54QQZ82wflfgKPCmEOJbU69fuj95Ic16koE15gi4AEKIUiAC+FBRlIfMUYZkWopu4tzFQJI5Ai6AEOI68A6QpihKE3OUIdVMBl0rUBTlZaA/MMOc5QghvgT2Ae+ZsxzJZN4E2gELzFzOP4CLwCQzlyNVQQ4vWNjd0/7DwGQhRLYFyvNAN8zgLYT4wdzlSQ9GURQX4CdglBBinwXKexLIxUzDGFL1ZNC1MEVREoDnhRDD7ruw6cqMAMYCA0x9wU4yDUVRFgIPCSGCLVjmNKCXvNhqWTLoWpCiKJ2A/6C7Mn3GguU2QndUs0wIsdpS5Uq1oyjKc8B24GkhRJEFy3UGvkdebLUoGXQt5O5Fku3ALiFEkhXKfw7IAbpZcseWambtP4iKorwCrEIX8IstXX5DJC+kWc4bgCfmv0hSJSHEISATmGuN8qVqhQJqYK01Cr97sfVbIMEa5TdE8kjXAu5eJDkKjBFC7G3o9ZB07rnI+WchxI8NvR4NhQy6FqAoSirwsBBigg3UZRS6FLLnhBC3rV2fhkxRlA1AgRBiig3UJQIYg+5iqwwKZiSHF8zs7ljqWGCytety12bgHKCycj0atLtjqS8B71u7LnctB5oCAdauSH0nj3TNRFGUAcBZdInoNpU1YK0sCknnnqyBaCHEZ9auTzlFUXoDnwO9gZeEEP+0cpXqJRl0zURRlCzgMvAUurEyjZWrZODupCr/nyXzhSUdW52MSFEUByAVcAdeFEI8ZtUK1VNyeMF82qMbI9MCS6xcl6okAV0VRZFB14LuTmgzCYiydl2qMAH4MzAQePRumqNkYjLomk9XwBn4Ahu8x/3uhDjhwCJFUZpbuz4Nwd0gtgSYY6O33q4CPkA3z7Yj4GLd6tRPMuiaz2Z0p5BzhBBl1q5MVYQQXwF7gKnWrksDMQp4FFhk7YpURehsBP4E/BNd/rBkYnJMt4G7O6/vD8B44DUhRKiVq1TvKIoShW58Pwk5j22DJx/XI7UFlqGbZtLZynWpr54H3ICvgGZWrotkZXYVdJs2bXpRrVY32OdQlZSUeJhh1R5A2N3/lwHBPJ4AegLFwCHgS3MV1FD3ETPuHyZnV8ML8omr5nniqqIo7kAG8CrQSE7/aFqKolwFfgVGCCGOmrmsBrmP2NMTiWXQtROW6FSKojwuhPjFnGU0RIqiPAactcQfs4a6j8igayYNtUOBfXUqyXoa6j5iT/uHTBmTJEmyoHoTdPfu3UtiYiIAISEhHD9+nMDAQFJSUgAIDg5m/PjxjB8/Hq1Wy/79++nVqxdqdfWpiGVlxqfXpqamEhkZSXh4OPcecezevZv+/fsTFhbG7t270Wq1hIWFERYWxhNPPMF///tfo8sC3YUTRVFEfX81bdr0YkNvE2PaoJyt7xfFxcUEBQUREhLCpk2bqtwvtmzZQnh4OCNHjuQ///mP0WXbHCGE3bzQ529XbcqUKSIhIUEsWrRICCFEQECAKCkpMVhm0qRJ4ty5c9V+L4QQubm54m9/+5sICQmpsbyKSktLRUBAgBBCiA8//FDs2bNH/93u3bvF0KFDRUBAgPj555/1n5eVlYlhw4bdd913t93oNqkvqtv+ql71tU1q0wZVbbst7xcfffSR2L59uxBCiNGjR+s/r2q/OHTokFi8eHGVZRjTP6z9squUsfsZN24c/fr14/z581V+f+zYMdRqNW3btq3y+9zcXKZMmcK4ceOYOnUqjzzyCADbt29nx44d+uXc3NyIj4+v9PuioiJat24NQMeOHSkoKNB/169fPwYMGMClS5eIjY1l7VrdgwKys7Px8fF5oO2VpNqw5f2isLCQZ599FgAHhz9OvCvuFykpKWzcuJGPPvqollttu+rN8IJWq2XGjBn84x//YPr06ZW+/+mnn0hOTmbRourvwOzRowdBQUEcOHCA1NRUjh8/DsCdO3dQq9X6V2lpqcHvUlNTUalUtGrVisuXLwNw9uxZ2rdvr1+mvEO1aNHC4PeZmZmMHj36wTf8AQUGBlY6hdRqzXtxvbanmJZWn9vC1veL9u3bU1hYqK9ruYr7RXR0NDk5OSxYYJWnXZmWtQ+1jXlRw2ljUlKS+Oyzz4QQQiQkJIi9e/canCY9+uijIjAwUISGhoqCggIhRPWnUUIIcfr0afH+++9XW1515s+fL6KiokRoaKjQarVi/vz54tChQ+KTTz4Rb7/9thg1apTYtWuXvoywsLBarRcjhhdOnz4tJk2aJP7617+KlJQU8csvv4j+/fuLefPmifHjx4vff/9d9OzZU8THx4sff/xReHl5iQ8++EDs379f+Pv7i6ioKDF9+nQhhBBeXl4iKSlJTJgwQZw/f174+/uLkpISUVhYKKKiomrdLg9yilmb7b9fm9SntqhNG1TsD7a+X/z+++9i/PjxIiwsTKxfv15fxr37xcqVK8XEiROFn5+fQVsZ2za28rJ6BYyqrJFjdTV1ntp8b0uMCbqxsbFiypQpYtq0aSIoKEj88ssvIjIyUgghRHR0tDh//rzBtg8ZMkQIIcTWrVvFmjVrhBBCBAUFievXr4v//d//FULoxtOSkpLEv//9b5Geni7ee+898eOPP+rL1Gg0IioqyuB18OBB/ffnz58X77zzjr6cjRs36r+bPXu2OHLkiBBCiLFjxxq1/fdrk/rUFg8SdKtSn/aLcvYUdOvVmG5FXbt2JS0tDZVKVem7/fv3o1arDcaR6gutVou/vz9PP/00AKdPn+ahhx4CoEmTJpSWlhpst6urK6D7A1yxPe7cuQPA7du3URSFV155BT8/P7RaLd26dTNYtuIpukbzx7ztFU8xe/Toof+u/BSze/fuJj+tl21RWUPdL2xFvQ66x44dIy0tzeAzrVaLg4MDL774IpmZmSYvMzU1lZ9//hmNRsPSpUtR7s4DferUKWbNmkVxcTGZmZlotVoiIiIA+PLLL/n888/Jzs7mxIkT/PrrryxbtqzaCxv3ExkZSVxcHI8++igPP/wwAQGVH3vVp08fVCoVkZGR+s8GDx5MSEgI+fn5eHp64uLigkajIS4ujlOnTunH07p27aoPYuUcHBwqtfW9HB0d6dGjByqVCrVaTUREBCkpKXh7ezNy5EgmTpxIdnY2r7322gNtc3VkW1Q2ZYruOZiBgYGkpaXh7PzHPEcvvPCCWfaLctXtH0ePHiUxMZHWrVszaNAghg0bVmn/OHnyJIsXL8bHx4ewsLCairFt1j7UNuaFHY/Vlas4TldVakxWVpbYsGGDwWdYKWWsYn23bNki/Pz8hEajMWu5FVW3/VW9zNUm1m6L2rRB+bbb2/6RnJws9u3bJ4QQYuTIkfrPK+4fu3btEsuWLXugtrGVl90e6S5dupRmzZrh5OTEDz/8wIgRI+jRowfvvvsu77zzDjdu3KBXr14kJCTg7OxM8+bNmTx5Mtu2bePll18mICCACRMmcOPGDZo1a0ZMTAx5eXmsX78ePz8/Nm7cyOnTpwkJCdGXqdVqiY6ONqiHn58fvXv3BmpOjalOxdSY4uJi/vnPf7J8+XJTNFOdVTzqGTZsGMOGNcwn/NhTW9jb/uHn58f06dPZsmULFy/+cQ9IfUyptNuga29jddXJzMzU5+zevHmTyMhI5s6di4uLbTwpZc2aNXh4eDBkyBCTrTMjI4O8vDxcXV2ZOXMmixYt4vvvv6dRo0bMmDGDNm1se2ZCS7RJXdnb/uHu7s6SJUvQaDSMHDlS//m9+0d9YbdB197G6jp06EB8fDwHDx4kKSmJ2NhYzpw5g5ubm35nmDBhAsXFxcyePZtRo0bx8ssvP1DbbNq0iZ07d+Lq6srs2bPZvHkz+fn53LhxgyVLljBr1iyuXbvG1atXeeaZZ7hy5QoFBQWsW7cOHx8fvLy8OHXqFBMnTtSv88yZM6SkpKDRaOjUqRNDhw5l2rRpeHp6EhgYSPfu3WtVt19//ZXNmzfTtWtX/VHPN998w8cff8yhQ4dYtWpVlQn2dWVvbVJX9rZ/tGjRglmzZnHr1i1iYmIAKu0fubm5pKSkcO3aNTw8PBg+fHhdm8kq5CxjwJgxYwxOHbOzs/nkk09Ys2aNzVzFrW4WparaJCkpiaZNmzJ8+HA8PT1Zv349P/74I99//z3Tpk1j+/btDB06lKeeeoqAgAA+/fRTwsPDmT17Nr6+vmRnZ3Pz5k0SEhJ4/vnn8fDwYNeuXTg4OODk5ERBQQFvv/02a9asISwsjF69eunLvnz5cqUjtaioKB5//HFAd3U8NTWVzMxM3n33XcLDwzl+/Djbtm2jZcuWFBUVsWzZslpvfzVtZfdt0qlTpwdqA3PsI/a8f9giuz3SNSV7GqurjdjYWA4fPkxMTAwzZ84kKyuLrKwspk+fzq1btwDd6aSjo6P+tNLJyYnS0lK0Wi1arVZ/Klmu4ukqQLt27UhPT+fw4cP6IykhRI13d7Vr145WrVoB0LJlS37//XeGDh3K0KFD2blzJ0eOHJFt8vvvZmmDB1Xf9g9rk0G3CqYes9NqtYSHh6PVamnSpAlLly416zjmihUrOHHiBIqi0LJlS9zc3EhKSuK7775jwIABNf7WycmJGTNmcPLkSRISEjhw4ABQ+XS1f//+bNu2jaKiIgYNGqT/vZubW42nmJ6enrRs2ZLo6GjKysro2bMn69atIzc3l9LS0hpvR60Le2sTW2WO8ezQ0FC+++478vLy9J/961//IioqimPHjrF7926mTp1Kt27dGDNmDH/+859NVrY11JvhBVOO2R04cAAPDw+eeuopk4zZ3Ss4OJhVq1bxxhtv6Mcxc3Jy7juOaczwQl1UPJW0FXUdXqgLW2mTBx1esId94942vnr1KvPmzePUqVNkZmby9ddfM3fuXNzd3XnvvfceeOjFVtSbI92CggJ69uzJ8OHDcXJyAnRXac+dO6f/Czp27NhKY3ZXr15Fo9EQHR1tMGYHldNu+vTpQ4sWLfD19TXoVPcbswPdjRpxcXG0a9cO0F00i4iI0I9j2gpbCC62xt7bxNb3jYpmz55NXFwc4eHhQPUz9Nkr2xgFN4HY2Fj69+9PTEwMP//8M1lZWcyZM4cXXnihTmN2vr6+JCYmkp6ezosvvkh8fDxbtmwx+IcvH7O791XxFs6uXbuSlZWFVqvl3LlzDB06lKVLl+Lt7U2XLl0s0EI6Y8aMMfk6vby82Lp1KwDx8fFMmjSJuLi4apefN28ekyZN0k+knZCQQEhICJGRkZSUlNRqIm1TssU2SUtLM1m9bH3fuFdxcTFHjx7l73//OwcPHmT16tXVztBnr+rNka4tj9mdP3+eOXPmIISgUaNGtG3b1izjmKGhocyZMwdXV1f8/PxITk5myZIlFBUVMWTIEIMUm/LTubS0NLp27Yqrqytr166lrKyMvn374uvrW+ty27dvj4+PDwUFBdy5c4dFixYRExNDQUEBnp6eBsvm5eWRm5uLp6cn7u7ugG56wU8++UR/cWvcuHEGV//rwl7bpPwJI6Zgy/sGoE+lDAsLY/HixXz++eeA7t9j/PjxZGVl8cUXX3D9+nX90a89qzdB9947YwD9HV2xsbEABoPva9asAXT3gQM4OzsbnALdezV6w4YNBuv19vY2um5t27blww8/NPjMz88PPz8/o9dVk1GjRrF582Y6duzIoEGDaNy4MWVlZbRp04YNGzbUmNeYmpqqP+XLy8szCDCJiYlcu3ZN//7VV1812LHKFRYW6gNKhw4dDN6X++9//0vnzp354IMPGDduHCNHjmTYsGH6/Nd751o1BXttk2bNmtVhqw3Z8r4BMGvWLGbNmlXp8/JhnZEjRxrcMGHv6k3QrQt7H7Mr5+3tTUZGBs2bN2fevHmsXLmSESNG0Lt370opPuWnbMXFxYDuuVcqlUr/VIB7lZaWGpzql9+hVFG7du3Izs4GdOOIVQW09u3bc/bsWQCaN29OWVkZ/v7++Pv7k56erk+dMhV7bRNTBt26qC/7hi1pEEHXHFefvby8iI2NxcfHp8qUl3v9+uuvTJ06lbKyMjp06EBiYiLvv/8+v/zyC1evXuXDDz+ksLCQsLAw9u/fbzDrkzEcHBzw9PTk0qVLuLi40LdvX5YvX06XLl1wdHQ0WNbDw4Pk5GT27t1L7969iYmJITIykjZt2vDYY48Z3Hk1Z86cWpXfoUMHHBwciI6OxsnJSX8Tgre3t/4C4ksvvcSmTZuIjo7Gw8ODRx55hAULFnDixAkaNWrEwoULH2jbq2OvbWIp5t43nnjiCV555RWee+45QkJCSE9PZ9euXdy6dYupU6dWOYxUcd84dOgQ27dv59q1ayiKwurVqwkLC+PFF1+0z9nGrD3jjjEvqpg9KiQkRBQVFYk7d+6IsWPHinPnzom4uDgRGhoqPv30UyHEH7NDlf932bJlYteuXeLQoUMiKipKhIeHi3Xr1lVad00qzjhV3RMPKpowYYLB8hs3btQ/KaCmyaOx4QdT1rTt8fHxDzQLV8W2qG77q3rVlzap65MjbGHf6Nmzp/D39xdffPGFEEKIwMBAUVJSIr799luxdOnSGn9/774hhBCpqan69VScbcyY/mHtl90f6Vp7zK62vv32WxITE/Xr8Pb2ZuDAgdy5c4dt27Y98HptgYuLC1u3bq1yNqgHmbylPkykXdc2SUtLqzSZjLFsYd84dOgQQgiGDRvG4MGDef311xk0aBC3b9/m448/rvI31e0b//73vw3ONuyV3Qdda4/Z1Vbfvn3ZsWMHI0aMQAjBv/71L3bu3MnevXvJyMiochZ/e7FixQqTrs9cE8xbUl3bxBSnzbawb5Sv19HRESEEGRkZ7Nmzh8LCQpKTk/UX7O5V1b6Rm5vLCy+8YNd/iMvZfdC19pgdVE55yczMNBizO3LkCCtWrODOnTv06tULRVHo0qUL4eHh+vHeB+Xs7HxJURTbngvRBJydnS8Zs2x9bBNj2gCsv28cO3aMuXPnoigKAwYMQFEUvLy8CAkJ4fr16wQHB3Pp0iVycnIIDAzU/66qfSMjI4Np06YZs/m2y9rjG8a8sIGxunKWGMe8F3Y0ZiVf1nvZwj5S2+sbQgiRk5Mjvv76a6PLsOcxXfs/VreS8jG7qsycOdPo06D6MI4pSVDzvlHRkCFD6N+/v1HrV6vVbNmy5YGfIWht9WbCm/rOnib0kKynoe4j9rR/2NWYbn0dq6sNY8fzpIapoe4j9rR/2NWRrikpivJP4L9CiPdMvN7ngW1ANyHEFVOuW5IsRVEUB2AfkC6EWGXidY8AZgG9hBBlply3PWiQA4iKogwBegOzTb1uIcQB4GNzrFuSLCgY0AIZZlj3FuAk8I4Z1m3zGtyRrqIoTYEfgL8KIb4wUxmPAEeB14UQueYoQ5LMRVEUd3T7yCtCiO/NVMZjwEHgBSHEKXOUYasa4pFuHHDIXAEXQAhxDd1f8TRFUexq3FySgGTgI3MFXAAhxOm75SxW7p2otwFoUEe6iqJ0BfagG0s6Z+ayFGAHkCOESDFnWZJkKoqieANrgKeFEGZ9QqaiKI5AHjBVCPGJOcuyJQ0m6N4NgjuBbCGEaaeyqr7MzsC3wLNCiAJLlClJD0pRFCfgMDBFCLHFQmX2Bzagu/B80xJlWltDGl4YBzwCLLFUgUKI48BiINVSZUpSHbwLHAeyLVWgEOIb4EtguqXKtLYGcaSrKEoLdBe2hgkhvrNw2c7AEUAlhPjckmVLUm0pivIn4DugtxDijIXLdkN34W6wECLfkmVbQ0MJusvQ3ZsdYaXyBwEr0I2T3bJGHSSpOneH3rYDu4UQc61Uh2B0aWp9hRDVP7myHqj3wwuKorwIDEOXtWAVQoh/A/uBBGvVQZJq8DrgCVjzgm8GoAHetmIdLKJeH+neTdc6CCQJITZauS6PAt8DA4QQR61ZF0kqpyiKC7qht7FCiD1Wrssz6C52PyOEsJvbeo1V3490I4HLwCZrV0QIcQHdxYJlDS0vUbJp04Ed1g64AEKII8BaYJ6162JO9fZIV1GU9kA+8JIQ4r9Wrg4AiqI0Av4DfCiEWGvt+kgNm6IozwJfoLvWcNna9QFQFKU58CMQKITYZe36mEN9DrofAz8KIWxqunlFUXoDn6Pr6EXWro/UMN09APgWWC6EMMf8Cg9MUZRhwFygpxCi1Nr1MbV6ObygKMpfgF5A7Z+5YyFCiP8DNmODdZMalLeB2+juPrMpQohsdPnC71q7LuZQ7450FUVphi7nL1wI8S9r16cqiqK4ort48aYQ4ltr10dqWO7Ot/sD8PLdcVSboyhKR+D/gP8RQpy0dn1MqT4e6cYD39lqwAUQQlwHotFNiNPE2vWRGpz5QIatBlyAuzdoJFEPJ8SpN0e6iqIEAbnoJrTpIYQ4b+Uq1ehuR/oXuklxjgO5QojfrFsrqb66mz7pCxSgy4ntJoQotm6tanb3gCQPXYaFI5AlhCixbq3qrl5MO3i3Qy1HN9P9DOCidWt0f0IIoSjKJGAvcABoAjSYmZYki/MEEoFSIAqw+TsjhRC3FUWJBNYDv6E7ODlg3VrVXX0ZXnADioH26Oax9bZude7v7l/xnejmZegGNLjnWkkW1QbdQVYxugOUztatzv3dnUz9Y3RH5y2oJ/tIfQm6jwOu6DrVeCHETivX576EELeB/wGuAR2Al6xaIam+6w60AxoBQ20ld70mQohfgX7oHhvUEXjOujUyjXoxpnv3RohEdI/gsbu8PkVR/gr8Lm+YkMzl7gNTRwOThRAaa9fHGHevfyQC+4QQO6xcnTqrF0FXkiTJXtSX4QVJkiS7YHT2QtOmTS+q1ep6MaBdE2dn50slJSUeFT9vKNtfleraRJL94t5+Idui5n3E6OEFRVFEQxiSUBQFIUSlpOyGsv1Vqa5NJNkv7u0Xsi1q3kfk8IIkSZIFWSToBgYGolarDT7Tas37RI7U1FQiIyMJDw/n3r+6xcXFBAUFERISwqZN5p9m15a2fffu3fTv35+wsDB2796t//yDDz5gzJgx+vdHjhzB3d29Ur0l07GlfnH06FFGjRpFREQEn376KUIIwsPDCQ8PJzY2FoDExETGjBlDWFgY58+b9mZPW26LqpZdvXo1YWFhvPrqq/z97383uuw6B90zZ84QFRVFZGQkCxYs4PTp0wwYMIDk5GSCgoIoLi4mPz+fmTNncvToUfr168fcuXM5cOAAAQEBqFQqZsyYAUC/fv2YN28ewcHBXLhwgYCAANRqNefOnUOlUtW6TmVlZeTn57N48WKefvpp9u3bp/8uKyuLN998kxUrVpCdXbeHntrbtiuKQvPmzVGr1Xh6egKQm5tL27ZtDX6/atUqhg4dWqe2acjsrV/k5OSgUqlYunQp69ev58qVK2g0GpYtW4aHhwf79u2jcePGODo64ujoSIsWLRpMW1S17Pjx40lLS6NLly4EBgbWutxydb4NeOnSpTRr1gwnJyd++OEHRowYQY8ePXj33Xd55513uHHjBr169SIhIQFnZ2eaN2/O5MmT2bZtGy+//DIBAQFMmDCBGzdu0KxZM2JiYsjLy2P9+vX4+fmxceNGTp8+TUhIiL5MrVZLdHS0QT38/Pzo3bs3AEVFRbRu3RqAjh07UlBQoF+usLCQZ599FgAHh7r9zbG3be/Xrx8DBgzg0qVLxMbGsmzZMjZt2sSiRYvYvn07AMnJyUyaNIn333+/Tm3TkNlbv/Dz82P69Ols2bKFixcv0qpVK7p27YpKpeLq1au0a9eOuLg4HBwc2Lp1K6tXryYionbPeLX3tqhu2dLSUn755Re6dOlSq3a4V52Drlarxd/fn6effhqA06dP89BDDwHQpEkTSktLDYKbq6srAEKISkHvzp07ANy+fRtFUXjllVfw8/NDq9XSrVs3g2Urno5oNH/ke7dq1YrLl3UT4Z89e5YePXrov2vfvj2FhYV07969zqcw9rbt5WW2aNGC0tJSDh48yK+//kpYWBgHDx5k3759HDx4kLNnz5Kbm8vChQuZPHnygzdQA2Vv/cLd3Z0lS5ag0WgYOXIkgD5ovffee3Tu3FlfL3d3d3766acG0xbVLZuVlcWIESNq3Q73qnPQjYyMJC4ujkcffZSHH36YgICASsv06dMHlUpFZGSk/rPBgwcTEhJCfn4+np6euLi4oNFoiIuL49SpUyxYsACArl276v/Byjk4OJCWllZtnRwdHenRowcqlQq1Wk1ERAQpKSl4e3szcuRIJk6cSHZ2Nq+99lqD2vZffvmFL774guvXrxMeHk7//v3p378/AGPGjOGll17ipZd0dyMHBgYSFRVVp/ZpqOytX7Ro0YJZs2Zx69YtYmJiAEhISKCoqAh3d3eeffZZZs+eTUFBAZcvX2bRokUNpi2qWhZg8+bNbNiwodbtYEAIYdRL9xPzGD16tMH7LVu2CD8/P6HRaMxWZnXubqfFtt+Wtr061bWJfMl+IWRbCCFqt4/IPN1qyDzdymSebvVkv5B5ulC7fcTm5tNds2YNHh4eDBkyxCTr02q1hIeHo9VqadKkCUuXLuWjjz5i1apVxMXFmawcczJ1m2g0Gvz9/WnWrBllZWWsXr26zhcVJcuxRH9YvXo1Bw8e5MKFCyxYsIDHH3/cJGWZmqnbAiAjI4O8vDxcXV2ZOXMmkydPpqioiOvXr7N69WqaN29ep/WbJOhu2rSJnTt34urqyuzZs9m8eTP5+fncuHGDJUuWMGvWLK5du8bVq1d55plnuHLlCgUFBaxbtw4fHx+8vLw4deoUEydO1K/zzJkzpKSkoNFo6NSpE0OHDmXatGl4enoSGBhI9+7da1U3BwcHli9fDkBwcDAA/v7+Zs8DtOU2KSkpoWnTpqxcuZKIiAiKi4t5+OGHzdUUEvbXHyZMmMCECRP49NNPOXr0qEmDri23xa+//srmzZvp2rWrPmth7ty5ACxYsIDvv/+evn371mn7TRJ0CwoK6NmzJ8OHD8fJyQnQXZk8d+4ceXl5AIwdO5annnqKgIAAPv30U8LDw7l69SoajYbo6Ghu3rxJQkICzz//PFA51aRPnz60aNECX19fgwa8fPkyM2fONKhPVFSUQSc5duwYcXFxtGvXzhSbWyu23CbNmjVDo9Hw6quv4uHhIQOuBdhjf5gyZQrffPMNmzdvbjBtcerUKVxdXVmwYAHvvvsuJ0+epFOnTly6dImDBw8aBPoHZZKgGxsby+HDh4mJiWHmzJlkZWWRlZXF9OnTuXVL91QQV1dXHB0d9SkhTk5OlJaWotVq0Wq1+jSQchVTTQDatWtHeno6hw8f1l8FFULc926Wrl27kpWVxV//+lfOnTtnkeBry21y6NAhnnzySVavXs3MmTPJz8+nV69e5moKCfvsDx988AEHDhxgzZo1xMfHN4i2aNeuHa1atQKgZcuW/P7771y4cIHJkyezZMkSGjeue8g0SdBdsWIFJ06cQFEUWrZsiZubG0lJSXz33XcMGDCgxt86OTkxY8YMTp48SUJCAgcO6B6BVDHVpH///mzbto2ioiIGDRqk/72bm1uN6SHnz59nzpw5CCFo1KgRbdu25bPPPmPt2rU0a9aMhx56iH79+pmiGQzYcpt069aNlJQUIiIiuHz5Mn/7299Ms9FSteytPyQlJVFQUMCVK1eYOnWqaRrhLltuC09PT1q2bEl0dDRlZWX07NmTF154gT/96U9MmTKF8PBwevbsWaftt3r2wpgxY8jMzDTZ+kzFmtkL9tYmknn7ha32h3KWzF6wt7aochlrB11bJVPGKpNBt3qyX8iUMZBTO0qSJNkcswbde6cLNBUvLy+2bt0KQHx8PJMmTSIuLq7KZcvnFQgKCiIxMRGAlJQUnnvuOY4dOwbA/v376dWrl0WnMTR3u4SGhuon9anKsWPHCAsLIywsjE6dOgGQlpZmlnpJVTNnH9BqtYSGhvL222/rb1tNT0/H19eXkSNHkp+fX+060tPTGThwIKDLgX311VcJCwvjyJEjqNVqAgMDaxwTfRDmbIsTJ04QFBTEW2+9RXJyMqCb4jQwMBBfX18uXLhQ7TrubYuMjAzefvttfHx86twWDxx0Q0ND9VPAvfXWW5w/f574+HjCwsLYsmWLwbLljZqWlsbu3bvJy8tDpVIRERHB+vXrjSq3ffv2+Pj4UFBQwJ07d1i0aBG3b982mCmonLu7O2lpaWRkZFBYWAjoJvLw8fHRL/Piiy+a9Mq9tdsFYPny5TXOftS1a1fS0tIIDw9n9OjRAISFhRlVnlQ9a/eB8tz0lStXUlZWBsDevXtZtWoVMTEx5ObmVvn7U6dOceXKFdzc3ABdjnuzZs3QarV4eHjg7Oxs9FSG1m6LJ598koyMDDZu3Mj+/fsBWLlyJatXr2bKlCmkp6fXqi2CgoJYuXIl06dPZ9u2bQ/UFuUeOHth1KhRbN68mY4dOzJo0CAaN25MWVkZbdq0YcOGDQwfPrza36ampurz4vLy8vD19dV/l5iYyLVr1/TvX331VYOrj+UKCwv1c8J26NDB4P29vv32WxITE6tchzlYu12MsWrVKjmpjRnYQh+omJv++uuvM2jQIG7fvs3HH39caXmtVktKSgopKSn4+/sD4Ovri7+/P99//z3z5s0jKSnJ2KawibYAyMzM1B+1CiFQFKXStI7lqmoLQH+QN3369NpufpUeOOh6e3uTkZFB8+bNmTdvHitXrmTEiBH07t2bYcOGGSxbfotpcXExoJtEWKVS8cgjj1Rab2lpqcGpfvl0bhW1a9dOPwl5QUFBtf94ffv2ZceOHYwYMULf2OZk7XaprZKSEs6fP88TTzxRp/VIldlCH6iYm56RkcGePXsoLCwkOTmZ1NRUg+VPnjzJ+fPnmTRpEgcPHmTr1q36Myd3d3du3rz5IE1hE22xefNmzpw5o5+m9O7FLs6ePUv79u0rLV9VWwwdOpSJEyeiUqno0KGD0e1wrwcOug4ODnh6enLp0iVcXFzo27ev/rTW0dHRYFkPDw+Sk5PZu3cvvXv3JiYmhsjISNq0acNjjz1mcJfHnDlzalV+hw4dcHBwIDo6GicnJzw9PVm/fj3e3t76v+5HjhxhxYoV3Llzh169eqEoCmvXruWzzz7j2LFjTJ06tdI8nHVl7XYB3Vj3wYMHCQsLY/HixWRmZhq0C+g64uuvv173DZYqsXYfqCo33cvLi5CQEK5fv05wcDCXLl0iJydHf4r85JNPkpWVBehO8318fFi+fDl5eXkUFRXpr4nYW1scOXIElUrFa6+9RnR0NCkpKUyYMIHg4GDKysqYO3durdoiNjaWo0ePsmzZMgYOHMibb775QO0B2NbUjrVRcXq3e8XHxz/QNG8BAQGipKTE4DMsPLVjXZmiXWpahxByaseaXrbQL+7373evnJwc8fXXXxtdxq5du8SyZcsMPqvYL2Rb1NxX7C5lzMXFRX+VvqKZM2caPVvW/v37UavVdj/LVl3bJS0tzeRH/ZJl1dQHKhoyZIh+AvvaUqvVbNmyxeCZerbKlttC3hxRDXlzRGXy5ojqyX4hb44AM82n6+zsfElRlDYPXi374OzsfKm6zxvC9lelujaRZL+o+F62RfWMPtKVJEmSHpx9D2RKkiTZGRl0JUmSLEgGXUmSJAuSQVeSJMmCZNCVJEmyIBl0JUmSLEgGXUmSJAuSQVeSJMmCZNCVJEmyIBl0JUmSLEgGXUmSJAuSQVeSJMmCZNCVJEmyIBl0JUmSLEgGXUmSJAuSQVeSJMmCZNCVJEmyIBl0JUmSLEgGXUmSJAv6/wE8dVeeKM8wLAAAAABJRU5ErkJggg==\n",
                        "text/plain": "<Figure size 432x288 with 1 Axes>"
                    },
                    "metadata": {
                        "needs_background": "light"
                    },
                    "output_type": "display_data"
                }
            ],
            "source": "tree.plot_tree(drugTree)\nplt.show()"
        },
        {
            "cell_type": "markdown",
            "metadata": {},
            "source": "# Support Vector Machine\n"
        },
        {
            "cell_type": "code",
            "execution_count": 27,
            "metadata": {},
            "outputs": [],
            "source": "from sklearn import svm\nfrom sklearn.metrics import jaccard_score\nsvm_model = svm.SVC(kernel='rbf')\nsvm_model.fit(X_train, y_train)\nyhat = svm_model.predict(X_test)"
        },
        {
            "cell_type": "code",
            "execution_count": 28,
            "metadata": {},
            "outputs": [
                {
                    "name": "stdout",
                    "output_type": "stream",
                    "text": "Avg F1-score: 0.5630\n"
                }
            ],
            "source": "print(\"Avg F1-score: %.4f\" % f1_score(y_test, yhat, average='weighted'))"
        },
        {
            "cell_type": "code",
            "execution_count": 29,
            "metadata": {},
            "outputs": [
                {
                    "name": "stdout",
                    "output_type": "stream",
                    "text": "Jaccard score: 0.6897\n"
                }
            ],
            "source": "print(\"Jaccard score: %.4f\" % metrics.accuracy_score(y_test, svm_model.predict(X_test)))"
        },
        {
            "cell_type": "markdown",
            "metadata": {},
            "source": "# Logistic Regression\n"
        },
        {
            "cell_type": "code",
            "execution_count": 30,
            "metadata": {},
            "outputs": [],
            "source": "from sklearn.linear_model import LogisticRegression\nLR_model = LogisticRegression(C=0.01, solver='liblinear').fit(X_train,y_train)\nyhat2 = LR_model.predict(X_test)"
        },
        {
            "cell_type": "code",
            "execution_count": 31,
            "metadata": {},
            "outputs": [
                {
                    "name": "stdout",
                    "output_type": "stream",
                    "text": "Test set Accuracy (Jaccard):  0.6781609195402298\n"
                }
            ],
            "source": "print(\"Test set Accuracy (Jaccard): \", metrics.accuracy_score(y_test, LR_model.predict(X_test)))"
        },
        {
            "cell_type": "code",
            "execution_count": 32,
            "metadata": {},
            "outputs": [
                {
                    "name": "stdout",
                    "output_type": "stream",
                    "text": "Test set Accuracy (F1):  0.5573925366084082\n"
                }
            ],
            "source": "print(\"Test set Accuracy (F1): \", f1_score(y_test, LR_model.predict(X_test), average='weighted'))"
        },
        {
            "cell_type": "code",
            "execution_count": 33,
            "metadata": {},
            "outputs": [],
            "source": "yhat_prob = LR_model.predict_proba(X_test)"
        },
        {
            "cell_type": "code",
            "execution_count": 34,
            "metadata": {},
            "outputs": [
                {
                    "data": {
                        "text/plain": "0.5869178606100383"
                    },
                    "execution_count": 34,
                    "metadata": {},
                    "output_type": "execute_result"
                }
            ],
            "source": "from sklearn.metrics import log_loss\nlog_loss(y_test, yhat_prob)"
        },
        {
            "cell_type": "markdown",
            "metadata": {},
            "source": "# Model Evaluation using Test set\n"
        },
        {
            "cell_type": "code",
            "execution_count": 35,
            "metadata": {},
            "outputs": [],
            "source": "from sklearn.metrics import jaccard_score\nfrom sklearn.metrics import f1_score\nfrom sklearn.metrics import log_loss\n"
        },
        {
            "cell_type": "markdown",
            "metadata": {},
            "source": "First, download and load the test set:\n"
        },
        {
            "cell_type": "code",
            "execution_count": 36,
            "metadata": {},
            "outputs": [
                {
                    "name": "stdout",
                    "output_type": "stream",
                    "text": "--2022-06-30 08:07:45--  https://s3-api.us-geo.objectstorage.softlayer.net/cf-courses-data/CognitiveClass/ML0101ENv3/labs/loan_test.csv\nResolving s3-api.us-geo.objectstorage.softlayer.net (s3-api.us-geo.objectstorage.softlayer.net)... 67.228.254.196\nConnecting to s3-api.us-geo.objectstorage.softlayer.net (s3-api.us-geo.objectstorage.softlayer.net)|67.228.254.196|:443... connected.\nHTTP request sent, awaiting response... 200 OK\nLength: 3642 (3.6K) [text/csv]\nSaving to: \u2018loan_test.csv\u2019\n\nloan_test.csv       100%[===================>]   3.56K  --.-KB/s    in 0s      \n\n2022-06-30 08:07:45 (115 MB/s) - \u2018loan_test.csv\u2019 saved [3642/3642]\n\n"
                }
            ],
            "source": "!wget -O loan_test.csv https://s3-api.us-geo.objectstorage.softlayer.net/cf-courses-data/CognitiveClass/ML0101ENv3/labs/loan_test.csv"
        },
        {
            "cell_type": "markdown",
            "metadata": {
                "button": false,
                "new_sheet": false,
                "run_control": {
                    "read_only": false
                }
            },
            "source": "### Load Test set for evaluation\n"
        },
        {
            "cell_type": "code",
            "execution_count": 37,
            "metadata": {
                "button": false,
                "new_sheet": false,
                "run_control": {
                    "read_only": false
                }
            },
            "outputs": [
                {
                    "data": {
                        "text/html": "<div>\n<style scoped>\n    .dataframe tbody tr th:only-of-type {\n        vertical-align: middle;\n    }\n\n    .dataframe tbody tr th {\n        vertical-align: top;\n    }\n\n    .dataframe thead th {\n        text-align: right;\n    }\n</style>\n<table border=\"1\" class=\"dataframe\">\n  <thead>\n    <tr style=\"text-align: right;\">\n      <th></th>\n      <th>Unnamed: 0</th>\n      <th>Unnamed: 0.1</th>\n      <th>loan_status</th>\n      <th>Principal</th>\n      <th>terms</th>\n      <th>effective_date</th>\n      <th>due_date</th>\n      <th>age</th>\n      <th>education</th>\n      <th>Gender</th>\n    </tr>\n  </thead>\n  <tbody>\n    <tr>\n      <th>0</th>\n      <td>1</td>\n      <td>1</td>\n      <td>PAIDOFF</td>\n      <td>1000</td>\n      <td>30</td>\n      <td>9/8/2016</td>\n      <td>10/7/2016</td>\n      <td>50</td>\n      <td>Bechalor</td>\n      <td>female</td>\n    </tr>\n    <tr>\n      <th>1</th>\n      <td>5</td>\n      <td>5</td>\n      <td>PAIDOFF</td>\n      <td>300</td>\n      <td>7</td>\n      <td>9/9/2016</td>\n      <td>9/15/2016</td>\n      <td>35</td>\n      <td>Master or Above</td>\n      <td>male</td>\n    </tr>\n    <tr>\n      <th>2</th>\n      <td>21</td>\n      <td>21</td>\n      <td>PAIDOFF</td>\n      <td>1000</td>\n      <td>30</td>\n      <td>9/10/2016</td>\n      <td>10/9/2016</td>\n      <td>43</td>\n      <td>High School or Below</td>\n      <td>female</td>\n    </tr>\n    <tr>\n      <th>3</th>\n      <td>24</td>\n      <td>24</td>\n      <td>PAIDOFF</td>\n      <td>1000</td>\n      <td>30</td>\n      <td>9/10/2016</td>\n      <td>10/9/2016</td>\n      <td>26</td>\n      <td>college</td>\n      <td>male</td>\n    </tr>\n    <tr>\n      <th>4</th>\n      <td>35</td>\n      <td>35</td>\n      <td>PAIDOFF</td>\n      <td>800</td>\n      <td>15</td>\n      <td>9/11/2016</td>\n      <td>9/25/2016</td>\n      <td>29</td>\n      <td>Bechalor</td>\n      <td>male</td>\n    </tr>\n  </tbody>\n</table>\n</div>",
                        "text/plain": "   Unnamed: 0  Unnamed: 0.1 loan_status  Principal  terms effective_date  \\\n0           1             1     PAIDOFF       1000     30       9/8/2016   \n1           5             5     PAIDOFF        300      7       9/9/2016   \n2          21            21     PAIDOFF       1000     30      9/10/2016   \n3          24            24     PAIDOFF       1000     30      9/10/2016   \n4          35            35     PAIDOFF        800     15      9/11/2016   \n\n    due_date  age             education  Gender  \n0  10/7/2016   50              Bechalor  female  \n1  9/15/2016   35       Master or Above    male  \n2  10/9/2016   43  High School or Below  female  \n3  10/9/2016   26               college    male  \n4  9/25/2016   29              Bechalor    male  "
                    },
                    "execution_count": 37,
                    "metadata": {},
                    "output_type": "execute_result"
                }
            ],
            "source": "test_df = pd.read_csv('loan_test.csv')\ntest_df.head()"
        },
        {
            "cell_type": "code",
            "execution_count": 38,
            "metadata": {},
            "outputs": [],
            "source": "test_df['due_date'] = pd.to_datetime(test_df['due_date'])\ntest_df['effective_date'] = pd.to_datetime(test_df['effective_date'])\ntest_df['dayofweek'] = test_df['effective_date'].dt.dayofweek\n\ntest_df['weekend'] = test_df['dayofweek'].apply(lambda x: 1 if (x>3)  else 0)\ntest_df['Gender'].replace(to_replace=['male','female'], value=[0,1],inplace=True)\n\nFeature1 = test_df[['Principal','terms','age','Gender','weekend']]\nFeature1 = pd.concat([Feature1,pd.get_dummies(test_df['education'])], axis=1)\nFeature1.drop(['Master or Above'], axis = 1,inplace=True)\n\n\nx_loan_test = Feature1\nx_loan_test = preprocessing.StandardScaler().fit(x_loan_test).transform(x_loan_test)\n\ny_loan_test = test_df['loan_status'].values"
        },
        {
            "cell_type": "code",
            "execution_count": 39,
            "metadata": {},
            "outputs": [
                {
                    "data": {
                        "text/plain": "[0.7222222222222222,\n 0.7407407407407407,\n 0.7407407407407407,\n 0.7407407407407407]"
                    },
                    "execution_count": 39,
                    "metadata": {},
                    "output_type": "execute_result"
                }
            ],
            "source": "knn_pred = kNN_model.predict(x_loan_test)\nj1 = accuracy_score(y_loan_test, knn_pred)\n\ndrugTree_pred = drugTree.predict(x_loan_test)\nj2 = accuracy_score(y_loan_test, drugTree_pred)\n\nsvm_pred = svm_model.predict(x_loan_test)\nj3 = accuracy_score(y_loan_test, svm_pred)\n\nLR_pred = LR_model.predict(x_loan_test)\nj4 = accuracy_score(y_loan_test, LR_pred)\n\njaccard = [j1, j2, j3, j4]\njaccard"
        },
        {
            "cell_type": "code",
            "execution_count": 40,
            "metadata": {},
            "outputs": [
                {
                    "data": {
                        "text/plain": "[0.6704776923582364,\n 0.6304176516942475,\n 0.6304176516942475,\n 0.6304176516942475]"
                    },
                    "execution_count": 40,
                    "metadata": {},
                    "output_type": "execute_result"
                }
            ],
            "source": "knn_pred = kNN_model.predict(x_loan_test)\nf1 = f1_score(y_loan_test, knn_pred, average='weighted')\n\ndrugTree_pred = drugTree.predict(x_loan_test)\nf2 = f1_score(y_loan_test, drugTree_pred, average='weighted')\n\n\nsvm_pred = svm_model.predict(x_loan_test)\nf3 = f1_score(y_loan_test, svm_pred, average='weighted')\n\nLR_pred = LR_model.predict(x_loan_test)\nf4 = f1_score(y_loan_test, LR_pred, average='weighted')\n\nf1s = [f1, f2, f3, f4]\nf1s"
        },
        {
            "cell_type": "code",
            "execution_count": 41,
            "metadata": {},
            "outputs": [
                {
                    "data": {
                        "text/plain": "['NA', 'NA', 'NA', 0.5672988945564502]"
                    },
                    "execution_count": 41,
                    "metadata": {},
                    "output_type": "execute_result"
                }
            ],
            "source": "from sklearn.metrics import log_loss\n\nLR_pred = LR_model.predict_proba(x_loan_test)\naux = log_loss(y_loan_test, LR_pred)\n\nlog_loss = ['NA','NA','NA', aux]\nlog_loss"
        },
        {
            "cell_type": "code",
            "execution_count": 42,
            "metadata": {},
            "outputs": [
                {
                    "data": {
                        "text/html": "<div>\n<style scoped>\n    .dataframe tbody tr th:only-of-type {\n        vertical-align: middle;\n    }\n\n    .dataframe tbody tr th {\n        vertical-align: top;\n    }\n\n    .dataframe thead th {\n        text-align: right;\n    }\n</style>\n<table border=\"1\" class=\"dataframe\">\n  <thead>\n    <tr style=\"text-align: right;\">\n      <th></th>\n      <th>Jaccard</th>\n      <th>F1-score</th>\n      <th>LogLoss</th>\n    </tr>\n  </thead>\n  <tbody>\n    <tr>\n      <th>KNN</th>\n      <td>0.7222222222222222</td>\n      <td>0.6704776923582364</td>\n      <td>NA</td>\n    </tr>\n    <tr>\n      <th>Decision Tree</th>\n      <td>0.7407407407407407</td>\n      <td>0.6304176516942475</td>\n      <td>NA</td>\n    </tr>\n    <tr>\n      <th>SVM</th>\n      <td>0.7407407407407407</td>\n      <td>0.6304176516942475</td>\n      <td>NA</td>\n    </tr>\n    <tr>\n      <th>Logistic Regression</th>\n      <td>0.7407407407407407</td>\n      <td>0.6304176516942475</td>\n      <td>0.5672988945564502</td>\n    </tr>\n  </tbody>\n</table>\n</div>",
                        "text/plain": "                                Jaccard            F1-score  \\\nKNN                  0.7222222222222222  0.6704776923582364   \nDecision Tree        0.7407407407407407  0.6304176516942475   \nSVM                  0.7407407407407407  0.6304176516942475   \nLogistic Regression  0.7407407407407407  0.6304176516942475   \n\n                                LogLoss  \nKNN                                  NA  \nDecision Tree                        NA  \nSVM                                  NA  \nLogistic Regression  0.5672988945564502  "
                    },
                    "execution_count": 42,
                    "metadata": {},
                    "output_type": "execute_result"
                }
            ],
            "source": "index   = [\"KNN\", \"Decision Tree\", \"SVM\", \"Logistic Regression\"]\ncolunms = [\"Jaccard\", \"F1-score\", \"LogLoss\"]\n\ndata = [jaccard, f1s, log_loss]\ndata = np.array(data).transpose()\n\ndf = pd.DataFrame(data, index=index, columns=colunms)\ndf"
        },
